{
 "cells": [
  {
   "cell_type": "markdown",
   "metadata": {},
   "source": [
    "# IV. Sorting Algorithms\n",
    "\n",
    "This time we will look at [Sorting Algorithms](https://en.wikipedia.org/wiki/Sorting_algorithm). Sorting a list is something which is clearly always possible. However, there are many different ways of doing so. Some methods might be simpler, some might be faster, some might be more convenient for a particular problems. Understanding some of the basic sorts is a good way to become acquainted with more abstract algorithms, as well as the idea of *recursion*."
   ]
  },
  {
   "cell_type": "markdown",
   "metadata": {},
   "source": [
    "## Preparing a Shuffled List\n",
    "\n",
    "First, we will create a list of integers which is already sorted:"
   ]
  },
  {
   "cell_type": "code",
   "execution_count": 1,
   "metadata": {},
   "outputs": [
    {
     "name": "stdout",
     "output_type": "stream",
     "text": [
      "[1, 2, 3, 4, 5, 6, 7, 8, 9]\n"
     ]
    }
   ],
   "source": [
    "sortedList = list(range(1,10))\n",
    "print(sortedList)"
   ]
  },
  {
   "cell_type": "markdown",
   "metadata": {},
   "source": [
    "Now, we create a copy of the array, and use the `shuffle` function from the `random` library to reorder the entries at random"
   ]
  },
  {
   "cell_type": "code",
   "execution_count": 2,
   "metadata": {},
   "outputs": [
    {
     "name": "stdout",
     "output_type": "stream",
     "text": [
      "The sorted list is: [1, 2, 3, 4, 5, 6, 7, 8, 9].\n",
      "The shuffled list is: [4, 7, 8, 9, 1, 3, 6, 5, 2].\n"
     ]
    }
   ],
   "source": [
    "from random import shuffle\n",
    "\n",
    "theList = sortedList.copy()\n",
    "shuffle(theList)\n",
    "\n",
    "print(f\"The sorted list is: {sortedList}.\")\n",
    "print(f\"The shuffled list is: {theList}.\")"
   ]
  },
  {
   "cell_type": "markdown",
   "metadata": {},
   "source": [
    "## Selection Sort\n",
    "\n",
    "[Selection Sort](https://en.wikipedia.org/wiki/Selection_sort) is one the most basic sorting algorithms. It is not  very efficient (we will see better techniques later on) but is a nice starting point. In order to sort a list of length $n$:\n",
    "1. Find the minimum of the $n$ elements.\n",
    "2. Place it at the beginning of the sorted list.\n",
    "3. Repeat the process with the remaining $n-1$ elements.\n",
    "\n",
    "Less abstractly, imagine you are placing books into the an empty bookshelf. The books start as a messy pile on the floor, and each iteration consists on finding the book which comes first alfabetically within the pile and placing it on the shelves. You can intuitively see that this process will eventually sort all books, but it might take quite a while if there are plenty of books...\n",
    "\n",
    "### Finding the Minimum\n",
    "\n",
    "The first ingredient of the algorithm is a function which finds the minimum element of a list `l`. We start with the guess `minIndex = 0` and then iterate over the list, comparing each element `l[k]` with the element `l[minIndex]`. If at any point we find an element less than the current guess for the minimum, i.e. `l[k] < l[minIndex]`, then we update the guess by letting `minIndex = k`."
   ]
  },
  {
   "cell_type": "code",
   "execution_count": 3,
   "metadata": {},
   "outputs": [],
   "source": [
    "def getIndexOfMinimum(l):\n",
    "    minIndex = 0\n",
    "    \n",
    "    for k in range(1, len(l)):\n",
    "        if l[k] < l[minIndex]:\n",
    "            minIndex = k\n",
    "    \n",
    "    return minIndex"
   ]
  },
  {
   "cell_type": "markdown",
   "metadata": {},
   "source": [
    "We can try a few test cases to make sure the function returns the correct value:"
   ]
  },
  {
   "cell_type": "code",
   "execution_count": 4,
   "metadata": {},
   "outputs": [
    {
     "data": {
      "text/plain": [
       "0"
      ]
     },
     "execution_count": 4,
     "metadata": {},
     "output_type": "execute_result"
    }
   ],
   "source": [
    "getIndexOfMinimum([0,1,2])"
   ]
  },
  {
   "cell_type": "code",
   "execution_count": 5,
   "metadata": {},
   "outputs": [
    {
     "data": {
      "text/plain": [
       "2"
      ]
     },
     "execution_count": 5,
     "metadata": {},
     "output_type": "execute_result"
    }
   ],
   "source": [
    "getIndexOfMinimum([3,1,0,2])"
   ]
  },
  {
   "cell_type": "code",
   "execution_count": 6,
   "metadata": {},
   "outputs": [
    {
     "data": {
      "text/plain": [
       "1"
      ]
     },
     "execution_count": 6,
     "metadata": {},
     "output_type": "execute_result"
    }
   ],
   "source": [
    "getIndexOfMinimum([1,0,0,3])"
   ]
  },
  {
   "cell_type": "markdown",
   "metadata": {},
   "source": [
    "### Recursion\n",
    "\n",
    "Now we are ready to implement the sort. Remember, first we find the minimum element, we place it at the beginning, and then we continue sorting the remainder of the list. In order to implement this with a minimal amount of code, we can use **recursion**.\n",
    "\n",
    "Recursion is the idea that the definition of a function can refer back to the function itself. An easy example of this is the *factorial* function. The usual definition of the factorial for positive integers is\n",
    "$$n! = n\\times(n-1)\\times\\cdots\\times2\\times1.$$\n",
    "\n",
    "However, since the factorial satisfies the property $n!=n\\times [(n-1)!]$, we can define it *recursively* by\n",
    "$$\n",
    "n! = \n",
    "\\begin{cases}\n",
    "n\\times [(n-1)!] & n\\in\\mathbb{N}\\setminus \\{1\\}\n",
    "\\\\ 1 & n=1\n",
    "\\end{cases}.\n",
    "$$\n",
    "\n",
    "Programatically, the second definition is much more elegant:"
   ]
  },
  {
   "cell_type": "code",
   "execution_count": 7,
   "metadata": {},
   "outputs": [],
   "source": [
    "def factorial(n):\n",
    "    if n<1 or not isinstance(n,int): raise ValueError('The argument has to be a natural number.')\n",
    "    if n==1: return 1\n",
    "    return n * factorial(n-1)"
   ]
  },
  {
   "cell_type": "markdown",
   "metadata": {},
   "source": [
    "Almost no code! Note that we check on the first line that the input is indeed a natural number; otherwise the recursion would never terminate and the computer could crash.\n",
    "\n",
    "We can test that the function computes the right numbers:"
   ]
  },
  {
   "cell_type": "code",
   "execution_count": 8,
   "metadata": {},
   "outputs": [
    {
     "name": "stdout",
     "output_type": "stream",
     "text": [
      "The first 10 factorials are [1, 2, 6, 24, 120, 720, 5040, 40320, 362880, 3628800].\n"
     ]
    }
   ],
   "source": [
    "print(f\"The first 10 factorials are {[factorial(k) for k in range(1,11)]}.\")"
   ]
  },
  {
   "cell_type": "markdown",
   "metadata": {},
   "source": [
    "### Completing the Implementation\n",
    "\n",
    "We are now ready to finish Selection Sort. Recall: find the minimum element of the pile, place it at the beginning, sort the rest of the pile. We can make a recursive implementation."
   ]
  },
  {
   "cell_type": "code",
   "execution_count": 9,
   "metadata": {},
   "outputs": [],
   "source": [
    "def selectionSort(l):\n",
    "    if len(l)==1:\n",
    "        return l\n",
    "    \n",
    "    k = getIndexOfMinimum(l)\n",
    "    \n",
    "    sortedRemainder = selectionSort(l[0:k]+l[k+1:])\n",
    "    \n",
    "    return [l[k]] + sortedRemainder"
   ]
  },
  {
   "cell_type": "markdown",
   "metadata": {},
   "source": [
    "For a list `l`, the function finds `k`, the index of the minimum element, using the code we wrote earlier. `l[k]` is thus the minimum element, and `[l[k]]` is a list containing it and nothing else. The elements before it (`l[0:k]`) and the ones after (`l[k+1:]`) are combined as a single list (`l[0:k]+l[k+1:]`) and passed to be sorted.\n",
    "\n",
    "At the end, the function returns `[l[k]] + sortedRemainder`, the minimum element followed by the rest of the pile after it has been sorted. This happens always except if the list only has one element; in that case the list is already sorted and can be returned directly!\n",
    "\n",
    "We can check that Selection Sort works for our shuffled list:"
   ]
  },
  {
   "cell_type": "code",
   "execution_count": 10,
   "metadata": {},
   "outputs": [
    {
     "data": {
      "text/plain": [
       "[1, 2, 3, 4, 5, 6, 7, 8, 9]"
      ]
     },
     "execution_count": 10,
     "metadata": {},
     "output_type": "execute_result"
    }
   ],
   "source": [
    "selectionSort(theList)"
   ]
  },
  {
   "cell_type": "markdown",
   "metadata": {},
   "source": [
    "## Insertion Sort\n",
    "\n",
    "[Insertion Sort](https://en.wikipedia.org/wiki/Insertion_sort) is an improvement on Selection Sort. Thinking again of the bookshelf, rather than finding the correct book out of the pile on the floor each time, we simply pick any book from the pile and insert it into the correct place on the shelves.\n",
    "\n",
    "Formally, to sort $n$ elements:\n",
    "1. Pick the first unsorted element and insert it into the sorted list.\n",
    "2. Pick the second unsorted element and insert it before or after the first item, depending on the value.\n",
    "3. In general, when there are $m$ elements left to sort and $n-m$ already sorted on the shelf, pick one of the $m$ and find the correct place within the sorted list.\n",
    "4. Repeat until no elements are left.\n",
    "\n",
    "### The Insertion Process\n",
    "\n",
    "If the key operation of Selection Sort was to find the minimum element of a list, the main operation now is the insertion of an element into an *already sorted* list. Given an ordered list `l` and an element `x`: we iterate through the elements of `l`; as soon as we find an element larger than `x`, we insert the element and return the new list. If no bigger element is found, `x` is the largest element and belongs at the end of the list."
   ]
  },
  {
   "cell_type": "code",
   "execution_count": 11,
   "metadata": {},
   "outputs": [],
   "source": [
    "def insertIntoSortedList(l, x):\n",
    "    for k in range(0,len(l)):\n",
    "        if l[k]>x:\n",
    "            return l[0:k] + [x] + l[k:]\n",
    "        \n",
    "    return l+[x]"
   ]
  },
  {
   "cell_type": "markdown",
   "metadata": {},
   "source": [
    "Again we can try a few cases to make sure the function works correctly:"
   ]
  },
  {
   "cell_type": "code",
   "execution_count": 12,
   "metadata": {},
   "outputs": [
    {
     "data": {
      "text/plain": [
       "[1, 3, 4, 5]"
      ]
     },
     "execution_count": 12,
     "metadata": {},
     "output_type": "execute_result"
    }
   ],
   "source": [
    "insertIntoSortedList([1,3,5], 4)"
   ]
  },
  {
   "cell_type": "code",
   "execution_count": 13,
   "metadata": {},
   "outputs": [
    {
     "data": {
      "text/plain": [
       "[1, 1.5, 2]"
      ]
     },
     "execution_count": 13,
     "metadata": {},
     "output_type": "execute_result"
    }
   ],
   "source": [
    "insertIntoSortedList([1,2], 1.5)"
   ]
  },
  {
   "cell_type": "code",
   "execution_count": 14,
   "metadata": {},
   "outputs": [
    {
     "data": {
      "text/plain": [
       "[0, 1, 3, 5]"
      ]
     },
     "execution_count": 14,
     "metadata": {},
     "output_type": "execute_result"
    }
   ],
   "source": [
    "insertIntoSortedList([1,3,5], 0)"
   ]
  },
  {
   "cell_type": "code",
   "execution_count": 15,
   "metadata": {},
   "outputs": [
    {
     "data": {
      "text/plain": [
       "[1, 3, 5, 10]"
      ]
     },
     "execution_count": 15,
     "metadata": {},
     "output_type": "execute_result"
    }
   ],
   "source": [
    "insertIntoSortedList([1,3,5], 10)"
   ]
  },
  {
   "cell_type": "markdown",
   "metadata": {},
   "source": [
    "### The Sorting Function\n",
    "\n",
    "Once the insertion process is working, we are ready to finish the implementation. Again, we will use recursion. Choose an element of the unsorted pile (for instance, the last one); use recursion to sort the rest of the list (`l[0:length-1]`), and then use `insertIntoSortedList` to place the element in the right place. Again, if the list has only one element, we return it unchaged."
   ]
  },
  {
   "cell_type": "code",
   "execution_count": 16,
   "metadata": {},
   "outputs": [],
   "source": [
    "def insertionSort(l):\n",
    "    length = len(l)\n",
    "    if length==1:\n",
    "        return l\n",
    "    \n",
    "    preSortedList = insertionSort(l[0:length-1])\n",
    "    \n",
    "    return insertIntoSortedList(preSortedList, l[length-1])"
   ]
  },
  {
   "cell_type": "markdown",
   "metadata": {},
   "source": [
    "Once again, we check it does the right thing:"
   ]
  },
  {
   "cell_type": "code",
   "execution_count": 17,
   "metadata": {},
   "outputs": [
    {
     "data": {
      "text/plain": [
       "[1, 2, 3, 4, 5, 6, 7, 8, 9]"
      ]
     },
     "execution_count": 17,
     "metadata": {},
     "output_type": "execute_result"
    }
   ],
   "source": [
    "insertionSort(theList)"
   ]
  },
  {
   "cell_type": "markdown",
   "metadata": {},
   "source": [
    "## Merge Sort\n",
    "\n",
    "As the last case, we will implement [Merge Sort](https://en.wikipedia.org/wiki/Merge_sort). Merge Sort is a more complicated algorithm, but it performs better than Selection Sort and Insertion Sort, and it is the kind of algorithm that can be parallelised &mdash; i.e. the task can be distributed among many computers to finish the job faster.\n",
    "\n",
    "The algorithm first splits the list to sort into $n$ sublists, each containing only one element. Then, iteratively, we take pairs of lists and merge them together into bigger, sorted lists. We repeat this until there is a single list left, which is the sorted list we want.\n",
    "\n",
    "### Splitting\n",
    "The splitting stage of the algorithm takes a list of elements and returns $n$ lists, each with a single element. If we return these within a bigger list, we can do it in one line with a list comprehension:"
   ]
  },
  {
   "cell_type": "code",
   "execution_count": 18,
   "metadata": {},
   "outputs": [],
   "source": [
    "def split(l): return [[x] for x in l]"
   ]
  },
  {
   "cell_type": "markdown",
   "metadata": {},
   "source": [
    "We check that this returns what we expect:"
   ]
  },
  {
   "cell_type": "code",
   "execution_count": 19,
   "metadata": {},
   "outputs": [
    {
     "name": "stdout",
     "output_type": "stream",
     "text": [
      "This is the original list: [4, 7, 8, 9, 1, 3, 6, 5, 2].\n",
      "These are the split lists: [[4], [7], [8], [9], [1], [3], [6], [5], [2]].\n"
     ]
    }
   ],
   "source": [
    "print(f\"This is the original list: {theList}.\")\n",
    "print(f\"These are the split lists: {split(theList)}.\")"
   ]
  },
  {
   "cell_type": "markdown",
   "metadata": {},
   "source": [
    "### Merging\n",
    "\n",
    "Now, the hard part. We have to write a function which takes two *sorted* lists, `a` and `b`, and merges them into a single, sorted list.\n",
    "\n",
    "We will place two indexes, one for `a` and one for `b`, both at `0`. We compare the element `a[0]` with the element of `b[0]`, add the smallest one to the sorted list, and increase the index of the corresponding list to avoid looking at that element again. For example, if `b[0]` is the smallest element, we increase the index of `b` so that the next comparison is between `a[0]` and `b[1]`. We repeat this until one of the lists has been exhausted, and add the remaining elements of the other list to the end (because they are larger than any element we have checked so far, and already sorted)."
   ]
  },
  {
   "cell_type": "code",
   "execution_count": 20,
   "metadata": {},
   "outputs": [],
   "source": [
    "def mergeSortedLists(a,b):\n",
    "    aIndex = 0\n",
    "    bIndex = 0\n",
    "    \n",
    "    aLength = len(a)\n",
    "    bLength = len(b)\n",
    "    \n",
    "    sortedList = []\n",
    "    \n",
    "    while True:\n",
    "        if aIndex == aLength:\n",
    "            return sortedList + b[bIndex:]\n",
    "        elif bIndex == bLength:\n",
    "            return sortedList + a[aIndex:]\n",
    "        \n",
    "        if a[aIndex] < b[bIndex]:\n",
    "            sortedList = sortedList + [a[aIndex]]\n",
    "            aIndex = aIndex + 1\n",
    "        else:\n",
    "            sortedList = sortedList + [b[bIndex]]\n",
    "            bIndex = bIndex + 1"
   ]
  },
  {
   "cell_type": "markdown",
   "metadata": {},
   "source": [
    "Once again we check a few cases to make sure the algorithm works:"
   ]
  },
  {
   "cell_type": "code",
   "execution_count": 21,
   "metadata": {},
   "outputs": [
    {
     "data": {
      "text/plain": [
       "[1, 2, 3, 4, 5, 6, 7, 8]"
      ]
     },
     "execution_count": 21,
     "metadata": {},
     "output_type": "execute_result"
    }
   ],
   "source": [
    "mergeSortedLists([1,2,5,8], [3,4,6,7])"
   ]
  },
  {
   "cell_type": "code",
   "execution_count": 22,
   "metadata": {},
   "outputs": [
    {
     "data": {
      "text/plain": [
       "[1, 3]"
      ]
     },
     "execution_count": 22,
     "metadata": {},
     "output_type": "execute_result"
    }
   ],
   "source": [
    "mergeSortedLists([1], [3])"
   ]
  },
  {
   "cell_type": "code",
   "execution_count": 23,
   "metadata": {},
   "outputs": [
    {
     "data": {
      "text/plain": [
       "[1, 2, 5, 7, 8]"
      ]
     },
     "execution_count": 23,
     "metadata": {},
     "output_type": "execute_result"
    }
   ],
   "source": [
    "mergeSortedLists([1,2,5,8], [7])"
   ]
  },
  {
   "cell_type": "code",
   "execution_count": 24,
   "metadata": {},
   "outputs": [
    {
     "data": {
      "text/plain": [
       "[1, 2, 3, 5, 8]"
      ]
     },
     "execution_count": 24,
     "metadata": {},
     "output_type": "execute_result"
    }
   ],
   "source": [
    "mergeSortedLists([1,2,5,8], [3])"
   ]
  },
  {
   "cell_type": "code",
   "execution_count": 25,
   "metadata": {},
   "outputs": [
    {
     "data": {
      "text/plain": [
       "[1, 2, 5, 8]"
      ]
     },
     "execution_count": 25,
     "metadata": {},
     "output_type": "execute_result"
    }
   ],
   "source": [
    "mergeSortedLists([], [1,2,5,8])"
   ]
  },
  {
   "cell_type": "markdown",
   "metadata": {},
   "source": [
    "Now that we have the tools to merge two lists, we write a recursive function that repeatedly merges the lists pairwise until there is only one left. To keep things simple, we only implement the merging for an even number of lists, and add an auxhiliary empty list whenever the number is odd."
   ]
  },
  {
   "cell_type": "code",
   "execution_count": 26,
   "metadata": {},
   "outputs": [],
   "source": [
    "def mergeABunchOfSortedLists(L):\n",
    "    length = len(L)\n",
    "    if length % 2 == 1:\n",
    "        L = L+[[]]\n",
    "        length = length + 1\n",
    "    \n",
    "    result = [mergeSortedLists(L[2*k], L[2*k+1]) for k in range(0,int(length/2))]\n",
    "    \n",
    "    if len(result) == 1:\n",
    "        return result[0]\n",
    "    else:\n",
    "        return mergeABunchOfSortedLists(result)"
   ]
  },
  {
   "cell_type": "markdown",
   "metadata": {},
   "source": [
    "We check that the merging is correct:"
   ]
  },
  {
   "cell_type": "code",
   "execution_count": 27,
   "metadata": {},
   "outputs": [
    {
     "data": {
      "text/plain": [
       "[2, 3, 3, 4, 5, 6]"
      ]
     },
     "execution_count": 27,
     "metadata": {},
     "output_type": "execute_result"
    }
   ],
   "source": [
    "mergeABunchOfSortedLists([[2,3],[5,6],[3,4]])"
   ]
  },
  {
   "cell_type": "markdown",
   "metadata": {},
   "source": [
    "### Merge Sort\n",
    "\n",
    "To finish the implementation, we simply put both processes together. We split the list into the sublists containing elements, and pass this to the merging program, which will return a single, sorted list."
   ]
  },
  {
   "cell_type": "code",
   "execution_count": 28,
   "metadata": {},
   "outputs": [],
   "source": [
    "def mergeSort(l):\n",
    "    return mergeABunchOfSortedLists(split(l))"
   ]
  },
  {
   "cell_type": "code",
   "execution_count": 29,
   "metadata": {},
   "outputs": [
    {
     "data": {
      "text/plain": [
       "[1, 2, 3, 4, 5, 6, 7, 8, 9]"
      ]
     },
     "execution_count": 29,
     "metadata": {},
     "output_type": "execute_result"
    }
   ],
   "source": [
    "mergeSort(theList)"
   ]
  },
  {
   "cell_type": "code",
   "execution_count": null,
   "metadata": {},
   "outputs": [],
   "source": []
  }
 ],
 "metadata": {
  "kernelspec": {
   "display_name": "Python 3",
   "language": "python",
   "name": "python3"
  },
  "language_info": {
   "codemirror_mode": {
    "name": "ipython",
    "version": 3
   },
   "file_extension": ".py",
   "mimetype": "text/x-python",
   "name": "python",
   "nbconvert_exporter": "python",
   "pygments_lexer": "ipython3",
   "version": "3.6.7"
  }
 },
 "nbformat": 4,
 "nbformat_minor": 2
}
