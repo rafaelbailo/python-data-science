{
 "cells": [
  {
   "cell_type": "markdown",
   "metadata": {},
   "source": [
    "# III. Lists, Arrays and Numpy : Iterative Algorithms &mdash; Part II\n",
    "\n",
    "Import `math`:"
   ]
  },
  {
   "cell_type": "code",
   "execution_count": null,
   "metadata": {},
   "outputs": [],
   "source": []
  },
  {
   "cell_type": "markdown",
   "metadata": {},
   "source": [
    "## Last Week with Newton\n",
    "\n",
    "You might remember the star of last week's lesson, **Newton's method** for root finding. Recall that, in order to \n",
    "solve the real equation\n",
    "$$f(x)=0,$$\n",
    "we used the iteration\n",
    "$$x_{n+1}=x_n-\\frac{f(x_n)}{f'(x_n)}.$$\n",
    "\n",
    "\n",
    "The steps involve:\n",
    "\n",
    "- Take an initial guess for the solution, call it $x_0$. \n",
    "- Compute the update $x_{n+1}$ from the previous step $x_n$ using the iteration rule.\n",
    "- Given a tolerance $\\epsilon$, repeat until $\\|x_{n+1}-x_{n}\\|<\\epsilon$.\n",
    "\n",
    "Last week we solved the polynomial equation $p(x)=0$, for \n",
    "$$p(x)=x^3-2x^2-11x+12.$$\n",
    "We can factor $p$ as\n",
    "$$p(x)=(x − 4)(x − 1)(x + 3),$$\n",
    "which yields the roots $x=1, x=4, x=-3$. We can find these numerically:"
   ]
  },
  {
   "cell_type": "code",
   "execution_count": null,
   "metadata": {},
   "outputs": [],
   "source": []
  },
  {
   "cell_type": "code",
   "execution_count": null,
   "metadata": {},
   "outputs": [],
   "source": []
  },
  {
   "cell_type": "code",
   "execution_count": null,
   "metadata": {},
   "outputs": [],
   "source": []
  },
  {
   "cell_type": "code",
   "execution_count": null,
   "metadata": {},
   "outputs": [],
   "source": []
  },
  {
   "cell_type": "code",
   "execution_count": null,
   "metadata": {},
   "outputs": [],
   "source": []
  },
  {
   "cell_type": "code",
   "execution_count": null,
   "metadata": {},
   "outputs": [],
   "source": []
  },
  {
   "cell_type": "markdown",
   "metadata": {},
   "source": [
    "## Solving Complex Problems\n",
    "\n",
    "What happens if we apply Newton's method to a polynomial with complex roots? Take, for instance, the polynomial\n",
    "$$r(z)=z^3-1,\\quad z\\in\\mathbb{C}$$\n",
    "which gives the cube roots of unity. Over the reals,\n",
    "$$r(x)=x^3-1,\\quad x\\in\\mathbb{R}$$\n",
    "$r$ only has one root, $x=1$. "
   ]
  },
  {
   "cell_type": "code",
   "execution_count": null,
   "metadata": {},
   "outputs": [],
   "source": []
  },
  {
   "cell_type": "code",
   "execution_count": null,
   "metadata": {},
   "outputs": [],
   "source": []
  },
  {
   "cell_type": "code",
   "execution_count": null,
   "metadata": {},
   "outputs": [],
   "source": []
  },
  {
   "cell_type": "code",
   "execution_count": null,
   "metadata": {},
   "outputs": [],
   "source": []
  },
  {
   "cell_type": "code",
   "execution_count": null,
   "metadata": {},
   "outputs": [],
   "source": []
  },
  {
   "cell_type": "code",
   "execution_count": null,
   "metadata": {},
   "outputs": [],
   "source": []
  },
  {
   "cell_type": "markdown",
   "metadata": {},
   "source": [
    "How can we find the complex roots of the polynomial? As in turns out, complex numbers work in python just as well! We can easily define a complex number:"
   ]
  },
  {
   "cell_type": "code",
   "execution_count": null,
   "metadata": {},
   "outputs": [],
   "source": []
  },
  {
   "cell_type": "markdown",
   "metadata": {},
   "source": [
    "We can also do the usual operations on complex numbers just as on reals.\n",
    "\n",
    "- Addition:"
   ]
  },
  {
   "cell_type": "code",
   "execution_count": null,
   "metadata": {},
   "outputs": [],
   "source": []
  },
  {
   "cell_type": "markdown",
   "metadata": {},
   "source": [
    "- Subtraction:"
   ]
  },
  {
   "cell_type": "code",
   "execution_count": null,
   "metadata": {},
   "outputs": [],
   "source": []
  },
  {
   "cell_type": "markdown",
   "metadata": {},
   "source": [
    "- Multiplication:"
   ]
  },
  {
   "cell_type": "code",
   "execution_count": null,
   "metadata": {},
   "outputs": [],
   "source": []
  },
  {
   "cell_type": "markdown",
   "metadata": {},
   "source": [
    "- Division:"
   ]
  },
  {
   "cell_type": "code",
   "execution_count": null,
   "metadata": {},
   "outputs": [],
   "source": []
  },
  {
   "cell_type": "markdown",
   "metadata": {},
   "source": [
    "- Exponentiation:"
   ]
  },
  {
   "cell_type": "code",
   "execution_count": null,
   "metadata": {},
   "outputs": [],
   "source": []
  },
  {
   "cell_type": "markdown",
   "metadata": {},
   "source": [
    "And, since all the maths works the same, **most of the code that works for real numbers works for complex numbers as well**.\n",
    "\n",
    "We can evaluate the polynomial $r$ at a complex number:"
   ]
  },
  {
   "cell_type": "code",
   "execution_count": null,
   "metadata": {},
   "outputs": [],
   "source": []
  },
  {
   "cell_type": "markdown",
   "metadata": {},
   "source": [
    "And, indeed, we can execute Newton's method with a complex initial guess! If we use a real number in complex format (something like `comple(-1,0)`), we recover the same root as before. Define it as `z1`:"
   ]
  },
  {
   "cell_type": "code",
   "execution_count": null,
   "metadata": {},
   "outputs": [],
   "source": []
  },
  {
   "cell_type": "markdown",
   "metadata": {},
   "source": [
    "However, if we pick the right starting point..."
   ]
  },
  {
   "cell_type": "code",
   "execution_count": null,
   "metadata": {},
   "outputs": [],
   "source": []
  },
  {
   "cell_type": "code",
   "execution_count": null,
   "metadata": {},
   "outputs": [],
   "source": []
  },
  {
   "cell_type": "markdown",
   "metadata": {},
   "source": [
    "We can &mdash; and should &mdash; check that the three roots are indeed roots of the polynomial, as well as cube roots of unity:"
   ]
  },
  {
   "cell_type": "code",
   "execution_count": null,
   "metadata": {},
   "outputs": [],
   "source": []
  },
  {
   "cell_type": "code",
   "execution_count": null,
   "metadata": {},
   "outputs": [],
   "source": []
  },
  {
   "cell_type": "markdown",
   "metadata": {},
   "source": [
    "It appears there is some error, but this is consistent &mdash; the method only computes approximations to the roots after all."
   ]
  },
  {
   "cell_type": "markdown",
   "metadata": {},
   "source": [
    "## Mapping the Roots\n",
    "\n",
    "![map][map]\n",
    "\n",
    "[map]: https://i.pinimg.com/236x/f7/3e/e5/f73ee5517d2ff9cdbd5b17a32feecb09--treasure-maps-treasure-map-tattoo.jpg \"Treasure Map\"\n",
    "\n",
    "Here is an \"innocent\" question. Which parts of the complex plane map to which root? The answer might be complicated, so we have to find a systematic way of checking a series of starting values.\n",
    "\n",
    "### Lists and Arrays\n",
    "\n",
    "While we technically have everything we need to do this already, we will be using some new tools which make the work much easier. First we will use the `numpy` module, which is extremely useful for any numerical exploration in Python.\n",
    "\n",
    "However, the name `numpy` is rather long, and typing every time we call one of its functions can be tiring. Instead of running `import numpy`, we can run `import numpy as np`, which gives the module an *alias*."
   ]
  },
  {
   "cell_type": "code",
   "execution_count": null,
   "metadata": {},
   "outputs": [],
   "source": []
  },
  {
   "cell_type": "markdown",
   "metadata": {},
   "source": [
    "This imports the module `numpy` under the name `np`."
   ]
  },
  {
   "cell_type": "code",
   "execution_count": null,
   "metadata": {},
   "outputs": [],
   "source": []
  },
  {
   "cell_type": "markdown",
   "metadata": {},
   "source": [
    "In order to study what happens to all the initial guesses systematically, we have to store them in an ordered manner. We can use lists for this:"
   ]
  },
  {
   "cell_type": "code",
   "execution_count": null,
   "metadata": {},
   "outputs": [],
   "source": []
  },
  {
   "cell_type": "markdown",
   "metadata": {},
   "source": [
    "We can access elements of the list using square brackets after the variable name. Remember to start counting from zero!"
   ]
  },
  {
   "cell_type": "code",
   "execution_count": null,
   "metadata": {},
   "outputs": [],
   "source": []
  },
  {
   "cell_type": "code",
   "execution_count": null,
   "metadata": {},
   "outputs": [],
   "source": []
  },
  {
   "cell_type": "code",
   "execution_count": null,
   "metadata": {},
   "outputs": [],
   "source": []
  },
  {
   "cell_type": "markdown",
   "metadata": {},
   "source": [
    "There are many helpful functions in `numpy` to construct collections like these. For instance, `zeros` returns a collection of zeros:"
   ]
  },
  {
   "cell_type": "code",
   "execution_count": null,
   "metadata": {},
   "outputs": [],
   "source": []
  },
  {
   "cell_type": "markdown",
   "metadata": {},
   "source": [
    "Notice the function returns an `array`, rather than a list. The `array` type is specific to `numpy`, but elements can be accessed just like in a list. A list can be turned into an `array` by using the `array` function:"
   ]
  },
  {
   "cell_type": "code",
   "execution_count": null,
   "metadata": {},
   "outputs": [],
   "source": []
  },
  {
   "cell_type": "code",
   "execution_count": null,
   "metadata": {},
   "outputs": [],
   "source": []
  },
  {
   "cell_type": "code",
   "execution_count": null,
   "metadata": {},
   "outputs": [],
   "source": []
  },
  {
   "cell_type": "markdown",
   "metadata": {},
   "source": [
    "Lists and arrays are extremely useful tools, and it is important that we learn how to work with them. One of the fundamental techniques &mdash; exclusive to Python &mdash; is the **list comprehension**.\n",
    "\n",
    "Observe the following code:"
   ]
  },
  {
   "cell_type": "code",
   "execution_count": null,
   "metadata": {},
   "outputs": [],
   "source": [
    "[k**2 for k in range(0,10)]"
   ]
  },
  {
   "cell_type": "markdown",
   "metadata": {},
   "source": [
    "We know that `range(0,10)` returns the integers from $0$ to $9$. Observe the code inside the brackets, `k**2 for k in range(0,10)`. This expression is taking each element in the list `range(0,10)`, squaring it, and returning the collection as a list.\n",
    "\n",
    "As it turns out, we can use any transformation we like over any list we choose. For instance, we can double each entry of `myList`:"
   ]
  },
  {
   "cell_type": "code",
   "execution_count": null,
   "metadata": {},
   "outputs": [],
   "source": []
  },
  {
   "cell_type": "markdown",
   "metadata": {},
   "source": [
    "Ideally, we would write this as multiplication, `2 * [1,-3,17,-10]`. However, if we try that:"
   ]
  },
  {
   "cell_type": "code",
   "execution_count": null,
   "metadata": {},
   "outputs": [],
   "source": []
  },
  {
   "cell_type": "markdown",
   "metadata": {},
   "source": [
    "Lists do not work with mathematical arithmetic. On the other hand, the `array` type does!"
   ]
  },
  {
   "cell_type": "code",
   "execution_count": null,
   "metadata": {},
   "outputs": [],
   "source": []
  },
  {
   "cell_type": "markdown",
   "metadata": {},
   "source": [
    "### A Complex Grid\n",
    "\n",
    "We are ready to start working with arrays to achieve our goal. A function that will be useful is `linspace`, which gives an array of equally spaced points between two limits."
   ]
  },
  {
   "cell_type": "code",
   "execution_count": null,
   "metadata": {},
   "outputs": [],
   "source": []
  },
  {
   "cell_type": "markdown",
   "metadata": {},
   "source": [
    "We can define arrays which contain the real and imaginary parts of the initial guesses, given a `scale` and a `number` of points:"
   ]
  },
  {
   "cell_type": "code",
   "execution_count": null,
   "metadata": {},
   "outputs": [],
   "source": []
  },
  {
   "cell_type": "code",
   "execution_count": null,
   "metadata": {},
   "outputs": [],
   "source": []
  },
  {
   "cell_type": "markdown",
   "metadata": {},
   "source": [
    "We can now use a list comprehension to assemble an `array` of complex numbers. In fact, we have to use **two** comprehensions. One over `xArray`, and one over `yArray`:"
   ]
  },
  {
   "cell_type": "code",
   "execution_count": null,
   "metadata": {},
   "outputs": [],
   "source": []
  },
  {
   "cell_type": "markdown",
   "metadata": {},
   "source": [
    "What we obtain is a nested array: an array of arrays. Think of it as a matrix!\n",
    "\n",
    "We can map this matrix to another matrix using list comprehensions again, though again we need two of them. For instance, in we can double Z:"
   ]
  },
  {
   "cell_type": "code",
   "execution_count": null,
   "metadata": {},
   "outputs": [],
   "source": []
  },
  {
   "cell_type": "markdown",
   "metadata": {},
   "source": [
    "Of course, we could have used multiplication (`2*Z`) as well.\n",
    "\n",
    "Instead of multiplying each number, we can use the values in `Z` as the initial value for Newton's method:"
   ]
  },
  {
   "cell_type": "code",
   "execution_count": null,
   "metadata": {},
   "outputs": [],
   "source": []
  },
  {
   "cell_type": "markdown",
   "metadata": {},
   "source": [
    "### The Bigger Picture\n",
    "\n",
    "We are almost done! We now can compute the corresponding root for an array of intial guesses. Before we increase the number of initial guesses, we should design a way of visualising the data. The best way to display the information we will gather is a plot over the complex plane which shows the argument (the phase, the angle) of the complex root returned by Newton's method. Conveniently, the module `cmath` has a `phase` function which returns the angle of a complex number. First we import the module:"
   ]
  },
  {
   "cell_type": "code",
   "execution_count": null,
   "metadata": {},
   "outputs": [],
   "source": []
  },
  {
   "cell_type": "markdown",
   "metadata": {},
   "source": [
    "And now we compute the phase of the roots:"
   ]
  },
  {
   "cell_type": "code",
   "execution_count": null,
   "metadata": {},
   "outputs": [],
   "source": []
  },
  {
   "cell_type": "markdown",
   "metadata": {},
   "source": [
    "All that is left is plotting the information. We will study plotting in detail later on. For now, here is a function that will plot the data nicely:"
   ]
  },
  {
   "cell_type": "code",
   "execution_count": null,
   "metadata": {},
   "outputs": [],
   "source": [
    "import matplotlib.pyplot as plt\n",
    "\n",
    "def plotArray(x,y,Z):\n",
    "    plt.figure(figsize=(5, 5))\n",
    "    extent=(x[0], x[-1], y[0], y[-1])\n",
    "    plt.imshow(np.transpose(Z), extent=extent, cmap=\"viridis\")"
   ]
  },
  {
   "cell_type": "code",
   "execution_count": null,
   "metadata": {},
   "outputs": [],
   "source": []
  },
  {
   "cell_type": "markdown",
   "metadata": {},
   "source": [
    "To finish, we will write a function which does all of this automatically. Once the function is working, feel free to play with the `scale` and the `number` parameters to get a better picture! This is known as a [Newton Fractal](https://en.wikipedia.org/wiki/Newton_fractal)."
   ]
  },
  {
   "cell_type": "code",
   "execution_count": null,
   "metadata": {},
   "outputs": [],
   "source": []
  },
  {
   "cell_type": "code",
   "execution_count": null,
   "metadata": {},
   "outputs": [],
   "source": []
  },
  {
   "cell_type": "code",
   "execution_count": null,
   "metadata": {},
   "outputs": [],
   "source": []
  }
 ],
 "metadata": {
  "kernelspec": {
   "display_name": "Python 3",
   "language": "python",
   "name": "python3"
  },
  "language_info": {
   "codemirror_mode": {
    "name": "ipython",
    "version": 3
   },
   "file_extension": ".py",
   "mimetype": "text/x-python",
   "name": "python",
   "nbconvert_exporter": "python",
   "pygments_lexer": "ipython3",
   "version": "3.6.7"
  }
 },
 "nbformat": 4,
 "nbformat_minor": 2
}
