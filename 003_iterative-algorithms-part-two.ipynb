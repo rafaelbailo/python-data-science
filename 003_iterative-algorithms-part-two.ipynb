{
 "cells": [
  {
   "cell_type": "markdown",
   "metadata": {},
   "source": [
    "# III. Lists, Arrays and Numpy : Iterative Algorithms &mdash; Part II\n",
    "\n",
    "Import `math`:"
   ]
  },
  {
   "cell_type": "code",
   "execution_count": 1,
   "metadata": {},
   "outputs": [],
   "source": [
    "import math"
   ]
  },
  {
   "cell_type": "markdown",
   "metadata": {},
   "source": [
    "## Last Week with Newton\n",
    "\n",
    "You might remember the star of last week's lesson, **Newton's method** for root finding. Recall that, in order to solve the real equation\n",
    "$$f(x)=0,$$\n",
    "we used the iteration\n",
    "$$x_{n+1}=x_n-\\frac{f(x_n)}{f'(x_n)}.$$\n",
    "\n",
    "\n",
    "The steps involve:\n",
    "\n",
    "- Take an initial guess for the solution, call it $x_0$. \n",
    "- Compute the update $x_{n+1}$ from the previous step $x_n$ using the iteration rule.\n",
    "- Given a tolerance $\\epsilon$, repeat until $\\|x_{n+1}-x_{n}\\|<\\epsilon$.\n",
    "\n",
    "Last week we solved the polynomial equation $p(x)=0$, for \n",
    "$$p(x)=x^3-2x^2-11x+12.$$\n",
    "We can factor $p$ as\n",
    "$$p(x)=(x − 4)(x − 1)(x + 3),$$\n",
    "which yields the roots $x=1, x=4, x=-3$. We can find these numerically:"
   ]
  },
  {
   "cell_type": "code",
   "execution_count": 2,
   "metadata": {},
   "outputs": [],
   "source": [
    "def p(x):\n",
    "    return x**3-2*x**2-11*x+12"
   ]
  },
  {
   "cell_type": "code",
   "execution_count": 3,
   "metadata": {},
   "outputs": [],
   "source": [
    "def pPrime(x):\n",
    "    return 3*x**2-4*x-11"
   ]
  },
  {
   "cell_type": "code",
   "execution_count": 4,
   "metadata": {},
   "outputs": [],
   "source": [
    "def newton(f, fPrime, x0, tol):\n",
    "    x = x0\n",
    "    k = 0\n",
    "    \n",
    "    difference = 10*tol\n",
    "    while difference > tol:\n",
    "        xNext = x - f(x)/fPrime(x)\n",
    "        difference = abs(xNext - x)\n",
    "\n",
    "        x = xNext\n",
    "        k = k+1\n",
    "        \n",
    "    return x"
   ]
  },
  {
   "cell_type": "code",
   "execution_count": 5,
   "metadata": {},
   "outputs": [
    {
     "data": {
      "text/plain": [
       "-3.0"
      ]
     },
     "execution_count": 5,
     "metadata": {},
     "output_type": "execute_result"
    }
   ],
   "source": [
    "newton(p, pPrime, -5, 1.0e-15)"
   ]
  },
  {
   "cell_type": "code",
   "execution_count": 6,
   "metadata": {},
   "outputs": [
    {
     "data": {
      "text/plain": [
       "1.0"
      ]
     },
     "execution_count": 6,
     "metadata": {},
     "output_type": "execute_result"
    }
   ],
   "source": [
    "newton(p, pPrime, 0, 1.0e-15)"
   ]
  },
  {
   "cell_type": "code",
   "execution_count": 7,
   "metadata": {},
   "outputs": [
    {
     "data": {
      "text/plain": [
       "4.0"
      ]
     },
     "execution_count": 7,
     "metadata": {},
     "output_type": "execute_result"
    }
   ],
   "source": [
    "newton(p, pPrime, 5, 1.0e-15)"
   ]
  },
  {
   "cell_type": "markdown",
   "metadata": {},
   "source": [
    "## Solving Complex Problems\n",
    "\n",
    "What happens if we apply Newton's method to a polynomial with complex roots? Take, for instance, the polynomial\n",
    "$$r(z)=z^3-1,\\quad z\\in\\mathbb{C}$$\n",
    "which gives the cube roots of unity. Over the reals,\n",
    "$$r(x)=x^3-1,\\quad x\\in\\mathbb{R}$$\n",
    "$r$ only has one root, $x=1$. "
   ]
  },
  {
   "cell_type": "code",
   "execution_count": 8,
   "metadata": {},
   "outputs": [],
   "source": [
    "def r(x):\n",
    "    return x**3-1"
   ]
  },
  {
   "cell_type": "code",
   "execution_count": 9,
   "metadata": {},
   "outputs": [],
   "source": [
    "def rPrime(x):\n",
    "    return 3*x**2"
   ]
  },
  {
   "cell_type": "code",
   "execution_count": 10,
   "metadata": {},
   "outputs": [
    {
     "data": {
      "text/plain": [
       "1.0"
      ]
     },
     "execution_count": 10,
     "metadata": {},
     "output_type": "execute_result"
    }
   ],
   "source": [
    "newton(r, rPrime, -10, 1.0e-15)"
   ]
  },
  {
   "cell_type": "code",
   "execution_count": 11,
   "metadata": {},
   "outputs": [
    {
     "data": {
      "text/plain": [
       "1.0"
      ]
     },
     "execution_count": 11,
     "metadata": {},
     "output_type": "execute_result"
    }
   ],
   "source": [
    "newton(r, rPrime, -1, 1.0e-15)"
   ]
  },
  {
   "cell_type": "code",
   "execution_count": 12,
   "metadata": {},
   "outputs": [
    {
     "data": {
      "text/plain": [
       "1.0"
      ]
     },
     "execution_count": 12,
     "metadata": {},
     "output_type": "execute_result"
    }
   ],
   "source": [
    "newton(r, rPrime, 1, 1.0e-15)"
   ]
  },
  {
   "cell_type": "code",
   "execution_count": 13,
   "metadata": {},
   "outputs": [
    {
     "data": {
      "text/plain": [
       "1.0"
      ]
     },
     "execution_count": 13,
     "metadata": {},
     "output_type": "execute_result"
    }
   ],
   "source": [
    "newton(r, rPrime, 10, 1.0e-15)"
   ]
  },
  {
   "cell_type": "markdown",
   "metadata": {},
   "source": [
    "How can we find the complex roots of the polynomial? As in turns out, complex numbers work in python just as well! We can easily define a complex number:"
   ]
  },
  {
   "cell_type": "code",
   "execution_count": 14,
   "metadata": {},
   "outputs": [
    {
     "data": {
      "text/plain": [
       "(1+3j)"
      ]
     },
     "execution_count": 14,
     "metadata": {},
     "output_type": "execute_result"
    }
   ],
   "source": [
    "complex(1,3)"
   ]
  },
  {
   "cell_type": "markdown",
   "metadata": {},
   "source": [
    "We can also do the usual operations on complex numbers just as on reals.\n",
    "\n",
    "- Addition:"
   ]
  },
  {
   "cell_type": "code",
   "execution_count": 15,
   "metadata": {},
   "outputs": [
    {
     "data": {
      "text/plain": [
       "(3+5j)"
      ]
     },
     "execution_count": 15,
     "metadata": {},
     "output_type": "execute_result"
    }
   ],
   "source": [
    "complex(1,2) + complex(2,3)"
   ]
  },
  {
   "cell_type": "markdown",
   "metadata": {},
   "source": [
    "- Subtraction:"
   ]
  },
  {
   "cell_type": "code",
   "execution_count": 16,
   "metadata": {},
   "outputs": [
    {
     "data": {
      "text/plain": [
       "(-2-2j)"
      ]
     },
     "execution_count": 16,
     "metadata": {},
     "output_type": "execute_result"
    }
   ],
   "source": [
    "complex(1,2) - complex(3,4)"
   ]
  },
  {
   "cell_type": "markdown",
   "metadata": {},
   "source": [
    "- Multiplication:"
   ]
  },
  {
   "cell_type": "code",
   "execution_count": 17,
   "metadata": {},
   "outputs": [
    {
     "data": {
      "text/plain": [
       "(-5+10j)"
      ]
     },
     "execution_count": 17,
     "metadata": {},
     "output_type": "execute_result"
    }
   ],
   "source": [
    "complex(1,2) * complex(3,4)"
   ]
  },
  {
   "cell_type": "markdown",
   "metadata": {},
   "source": [
    "- Division:"
   ]
  },
  {
   "cell_type": "code",
   "execution_count": 18,
   "metadata": {},
   "outputs": [
    {
     "data": {
      "text/plain": [
       "(0.44+0.08j)"
      ]
     },
     "execution_count": 18,
     "metadata": {},
     "output_type": "execute_result"
    }
   ],
   "source": [
    "complex(1,2) / complex(3,4)"
   ]
  },
  {
   "cell_type": "markdown",
   "metadata": {},
   "source": [
    "- Exponentiation:"
   ]
  },
  {
   "cell_type": "code",
   "execution_count": 19,
   "metadata": {},
   "outputs": [
    {
     "data": {
      "text/plain": [
       "(-3+4j)"
      ]
     },
     "execution_count": 19,
     "metadata": {},
     "output_type": "execute_result"
    }
   ],
   "source": [
    "complex(1,2) ** 2"
   ]
  },
  {
   "cell_type": "markdown",
   "metadata": {},
   "source": [
    "And, since all the maths works the same, **most of the code that works for real numbers works for complex numbers as well**.\n",
    "\n",
    "We can evaluate the polynomial $r$ at a complex number:"
   ]
  },
  {
   "cell_type": "code",
   "execution_count": 20,
   "metadata": {},
   "outputs": [
    {
     "data": {
      "text/plain": [
       "(-1-1j)"
      ]
     },
     "execution_count": 20,
     "metadata": {},
     "output_type": "execute_result"
    }
   ],
   "source": [
    "r(complex(0,1))"
   ]
  },
  {
   "cell_type": "markdown",
   "metadata": {},
   "source": [
    "And, indeed, we can execute Newton's method with a complex initial guess! If we use a real number in complex format (something like `comple(-1,0)`), we recover the same root as before. Define it as `z1`:"
   ]
  },
  {
   "cell_type": "code",
   "execution_count": 21,
   "metadata": {},
   "outputs": [
    {
     "name": "stdout",
     "output_type": "stream",
     "text": [
      "(1+0j)\n"
     ]
    }
   ],
   "source": [
    "z1 = newton(r, rPrime, complex(-1,0), 1.0e-15)\n",
    "print(z1)"
   ]
  },
  {
   "cell_type": "markdown",
   "metadata": {},
   "source": [
    "However, if we pick the right starting point..."
   ]
  },
  {
   "cell_type": "code",
   "execution_count": 22,
   "metadata": {},
   "outputs": [
    {
     "name": "stdout",
     "output_type": "stream",
     "text": [
      "(-0.5+0.8660254037844387j)\n"
     ]
    }
   ],
   "source": [
    "z2 = newton(r, rPrime, complex(-1,1), 1.0e-15)\n",
    "print(z2)"
   ]
  },
  {
   "cell_type": "code",
   "execution_count": 23,
   "metadata": {},
   "outputs": [
    {
     "name": "stdout",
     "output_type": "stream",
     "text": [
      "(-0.5-0.8660254037844387j)\n"
     ]
    }
   ],
   "source": [
    "z3 = newton(r, rPrime, complex(-1,-1), 1.0e-15)\n",
    "print(z3)"
   ]
  },
  {
   "cell_type": "markdown",
   "metadata": {},
   "source": [
    "We can &mdash; and should &mdash; check that the three roots are indeed roots of the polynomial, as well as cube roots of unity:"
   ]
  },
  {
   "cell_type": "code",
   "execution_count": 24,
   "metadata": {},
   "outputs": [
    {
     "data": {
      "text/plain": [
       "((1+0j),\n",
       " (1.0000000000000002-1.1102230246251565e-16j),\n",
       " (1.0000000000000002+1.1102230246251565e-16j))"
      ]
     },
     "execution_count": 24,
     "metadata": {},
     "output_type": "execute_result"
    }
   ],
   "source": [
    "z1**3, z2**3, z3**3"
   ]
  },
  {
   "cell_type": "code",
   "execution_count": 25,
   "metadata": {},
   "outputs": [
    {
     "data": {
      "text/plain": [
       "(0j,\n",
       " (2.220446049250313e-16-1.1102230246251565e-16j),\n",
       " (2.220446049250313e-16+1.1102230246251565e-16j))"
      ]
     },
     "execution_count": 25,
     "metadata": {},
     "output_type": "execute_result"
    }
   ],
   "source": [
    "r(z1), r(z2), r(z3)"
   ]
  },
  {
   "cell_type": "markdown",
   "metadata": {},
   "source": [
    "It appears there is some error, but this is consistent &mdash; the method only computes approximations to the roots after all."
   ]
  },
  {
   "cell_type": "markdown",
   "metadata": {},
   "source": [
    "## Mapping the Roots\n",
    "\n",
    "![map][map]\n",
    "\n",
    "[map]: https://i.pinimg.com/236x/f7/3e/e5/f73ee5517d2ff9cdbd5b17a32feecb09--treasure-maps-treasure-map-tattoo.jpg \"Treasure Map\"\n",
    "\n",
    "Here is an \"innocent\" question. Which parts of the complex plane map to which root? The answer might be complicated, so we have to find a systematic way of checking a series of starting values.\n",
    "\n",
    "### Lists and Arrays\n",
    "\n",
    "While we technically have everything we need to do this already, we will be using some new tools which make the work much easier. First we will use the `numpy` module, which is extremely useful for any numerical exploration in Python.\n",
    "\n",
    "However, the name `numpy` is rather long, and typing every time we call one of its functions can be tiring. Instead of running `import numpy`, we can run `import numpy as np`, which gives the module an *alias*."
   ]
  },
  {
   "cell_type": "code",
   "execution_count": 26,
   "metadata": {},
   "outputs": [],
   "source": [
    "import numpy as np"
   ]
  },
  {
   "cell_type": "markdown",
   "metadata": {},
   "source": [
    "This imports the module `numpy` under the name `np`."
   ]
  },
  {
   "cell_type": "code",
   "execution_count": 27,
   "metadata": {},
   "outputs": [
    {
     "data": {
      "text/plain": [
       "<module 'numpy' from '/usr/local/lib/python3.6/dist-packages/numpy/__init__.py'>"
      ]
     },
     "execution_count": 27,
     "metadata": {},
     "output_type": "execute_result"
    }
   ],
   "source": [
    "np"
   ]
  },
  {
   "cell_type": "markdown",
   "metadata": {},
   "source": [
    "In order to study what happens to all the initial guesses systematically, we have to store them in an ordered manner. We can use lists for this:"
   ]
  },
  {
   "cell_type": "code",
   "execution_count": 28,
   "metadata": {},
   "outputs": [
    {
     "data": {
      "text/plain": [
       "[3, 5, 7]"
      ]
     },
     "execution_count": 28,
     "metadata": {},
     "output_type": "execute_result"
    }
   ],
   "source": [
    "[3,5,7]"
   ]
  },
  {
   "cell_type": "markdown",
   "metadata": {},
   "source": [
    "We can access elements of the list using square brackets after the variable name. Remember to start counting from zero!"
   ]
  },
  {
   "cell_type": "code",
   "execution_count": 29,
   "metadata": {},
   "outputs": [
    {
     "data": {
      "text/plain": [
       "3"
      ]
     },
     "execution_count": 29,
     "metadata": {},
     "output_type": "execute_result"
    }
   ],
   "source": [
    "myList = [3,5,7]\n",
    "myList[0]"
   ]
  },
  {
   "cell_type": "code",
   "execution_count": 30,
   "metadata": {},
   "outputs": [
    {
     "data": {
      "text/plain": [
       "5"
      ]
     },
     "execution_count": 30,
     "metadata": {},
     "output_type": "execute_result"
    }
   ],
   "source": [
    "myList[1]"
   ]
  },
  {
   "cell_type": "code",
   "execution_count": 31,
   "metadata": {},
   "outputs": [
    {
     "data": {
      "text/plain": [
       "7"
      ]
     },
     "execution_count": 31,
     "metadata": {},
     "output_type": "execute_result"
    }
   ],
   "source": [
    "myList[2]"
   ]
  },
  {
   "cell_type": "markdown",
   "metadata": {},
   "source": [
    "There are many helpful functions in `numpy` to construct collections like these. For instance, `zeros` returns a collection of zeros:"
   ]
  },
  {
   "cell_type": "code",
   "execution_count": 32,
   "metadata": {},
   "outputs": [
    {
     "data": {
      "text/plain": [
       "array([0., 0., 0.])"
      ]
     },
     "execution_count": 32,
     "metadata": {},
     "output_type": "execute_result"
    }
   ],
   "source": [
    "np.zeros(3)"
   ]
  },
  {
   "cell_type": "markdown",
   "metadata": {},
   "source": [
    "Notice the function returns an `array`, rather than a list. The `array` type is specific to `numpy`, but elements can be accessed just like in a list. A list can be turned into an `array` by using the `array` function:"
   ]
  },
  {
   "cell_type": "code",
   "execution_count": 33,
   "metadata": {},
   "outputs": [
    {
     "data": {
      "text/plain": [
       "3"
      ]
     },
     "execution_count": 33,
     "metadata": {},
     "output_type": "execute_result"
    }
   ],
   "source": [
    "myArray = np.array([3,5,7])\n",
    "myArray[0]"
   ]
  },
  {
   "cell_type": "code",
   "execution_count": 34,
   "metadata": {},
   "outputs": [
    {
     "data": {
      "text/plain": [
       "5"
      ]
     },
     "execution_count": 34,
     "metadata": {},
     "output_type": "execute_result"
    }
   ],
   "source": [
    "myArray[1]"
   ]
  },
  {
   "cell_type": "code",
   "execution_count": 35,
   "metadata": {},
   "outputs": [
    {
     "data": {
      "text/plain": [
       "7"
      ]
     },
     "execution_count": 35,
     "metadata": {},
     "output_type": "execute_result"
    }
   ],
   "source": [
    "myArray[2]"
   ]
  },
  {
   "cell_type": "markdown",
   "metadata": {},
   "source": [
    "Lists and arrays are extremely useful tools, and it is important that we learn how to work with them. One of the fundamental techniques &mdash; exclusive to Python &mdash; is the **list comprehension**.\n",
    "\n",
    "Observe the following code:"
   ]
  },
  {
   "cell_type": "code",
   "execution_count": 36,
   "metadata": {},
   "outputs": [
    {
     "data": {
      "text/plain": [
       "[0, 1, 4, 9, 16, 25, 36, 49, 64, 81]"
      ]
     },
     "execution_count": 36,
     "metadata": {},
     "output_type": "execute_result"
    }
   ],
   "source": [
    "[k**2 for k in range(0,10)]"
   ]
  },
  {
   "cell_type": "markdown",
   "metadata": {},
   "source": [
    "We know that `range(0,10)` returns the integers from $0$ to $9$. Observe the code inside the brackets, `k**2 for k in range(0,10)`. This expression is taking each element in the list `range(0,10)`, squaring it, and returning the collection as a list.\n",
    "\n",
    "As it turns out, we can use any transformation we like over any list we choose. For instance, we can double each entry of `myList`:"
   ]
  },
  {
   "cell_type": "code",
   "execution_count": 37,
   "metadata": {},
   "outputs": [
    {
     "data": {
      "text/plain": [
       "[6, 10, 14]"
      ]
     },
     "execution_count": 37,
     "metadata": {},
     "output_type": "execute_result"
    }
   ],
   "source": [
    "[2*x for x in myList]"
   ]
  },
  {
   "cell_type": "markdown",
   "metadata": {},
   "source": [
    "Ideally, we would write this as multiplication, `2 * [1,-3,17,-10]`. However, if we try that:"
   ]
  },
  {
   "cell_type": "code",
   "execution_count": 38,
   "metadata": {},
   "outputs": [
    {
     "data": {
      "text/plain": [
       "[3, 5, 7, 3, 5, 7]"
      ]
     },
     "execution_count": 38,
     "metadata": {},
     "output_type": "execute_result"
    }
   ],
   "source": [
    "2 * myList"
   ]
  },
  {
   "cell_type": "markdown",
   "metadata": {},
   "source": [
    "Lists do not work with mathematical arithmetic. On the other hand, the `array` type does!"
   ]
  },
  {
   "cell_type": "code",
   "execution_count": 39,
   "metadata": {},
   "outputs": [
    {
     "data": {
      "text/plain": [
       "array([ 6, 10, 14])"
      ]
     },
     "execution_count": 39,
     "metadata": {},
     "output_type": "execute_result"
    }
   ],
   "source": [
    "2 * np.array(myList)"
   ]
  },
  {
   "cell_type": "markdown",
   "metadata": {},
   "source": [
    "### A Complex Grid\n",
    "\n",
    "We are ready to start working with arrays to achieve our goal. A function that will be useful is `linspace`, which gives an array of equally spaced points between two limits."
   ]
  },
  {
   "cell_type": "code",
   "execution_count": 40,
   "metadata": {},
   "outputs": [
    {
     "data": {
      "text/plain": [
       "array([0.  , 0.05, 0.1 , 0.15, 0.2 , 0.25, 0.3 , 0.35, 0.4 , 0.45, 0.5 ,\n",
       "       0.55, 0.6 , 0.65, 0.7 , 0.75, 0.8 , 0.85, 0.9 , 0.95, 1.  ])"
      ]
     },
     "execution_count": 40,
     "metadata": {},
     "output_type": "execute_result"
    }
   ],
   "source": [
    "np.linspace(0,1,21)"
   ]
  },
  {
   "cell_type": "markdown",
   "metadata": {},
   "source": [
    "We can define arrays which contain the real and imaginary parts of the initial guesses, given a `scale` and a `number` of points:"
   ]
  },
  {
   "cell_type": "code",
   "execution_count": 41,
   "metadata": {},
   "outputs": [],
   "source": [
    "scale = 2\n",
    "number = 2"
   ]
  },
  {
   "cell_type": "code",
   "execution_count": 42,
   "metadata": {},
   "outputs": [],
   "source": [
    "xArray = np.linspace(-scale, scale, number)\n",
    "yArray = np.linspace(-scale, scale, number)"
   ]
  },
  {
   "cell_type": "markdown",
   "metadata": {},
   "source": [
    "We can now use a list comprehension to assemble an `array` of complex numbers. In fact, we have to use **two** comprehensions. One over `xArray`, and one over `yArray`:"
   ]
  },
  {
   "cell_type": "code",
   "execution_count": 43,
   "metadata": {},
   "outputs": [
    {
     "name": "stdout",
     "output_type": "stream",
     "text": [
      "[[-2.-2.j -2.+2.j]\n",
      " [ 2.-2.j  2.+2.j]]\n"
     ]
    }
   ],
   "source": [
    "Z = np.array([[complex(x,y) for y in yArray] for x in xArray])\n",
    "print(Z)"
   ]
  },
  {
   "cell_type": "markdown",
   "metadata": {},
   "source": [
    "What we obtain is a nested array: an array of arrays. Think of it as a matrix!\n",
    "\n",
    "We can map this matrix to another matrix using list comprehensions again, though again we need two of them. For instance, in we can double Z:"
   ]
  },
  {
   "cell_type": "code",
   "execution_count": 44,
   "metadata": {},
   "outputs": [
    {
     "data": {
      "text/plain": [
       "array([[-4.-4.j, -4.+4.j],\n",
       "       [ 4.-4.j,  4.+4.j]])"
      ]
     },
     "execution_count": 44,
     "metadata": {},
     "output_type": "execute_result"
    }
   ],
   "source": [
    "np.array([[2*z for z in row] for row in Z])"
   ]
  },
  {
   "cell_type": "markdown",
   "metadata": {},
   "source": [
    "Of course, we could have used multiplication (`2*Z`) as well.\n",
    "\n",
    "Instead of multiplying each number, we can use the values in `Z` as the initial value for Newton's method:"
   ]
  },
  {
   "cell_type": "code",
   "execution_count": 45,
   "metadata": {},
   "outputs": [
    {
     "name": "stdout",
     "output_type": "stream",
     "text": [
      "[[-0.5-0.8660254j -0.5+0.8660254j]\n",
      " [ 1. +0.j         1. +0.j       ]]\n"
     ]
    }
   ],
   "source": [
    "roots = np.array([[newton(r, rPrime, z, 1.0e-15) for z in row] for row in Z])\n",
    "print(roots)"
   ]
  },
  {
   "cell_type": "markdown",
   "metadata": {},
   "source": [
    "### The Bigger Picture\n",
    "\n",
    "We are almost done! We now can compute the corresponding root for an array of intial guesses. Before we increase the number of initial guesses, we should design a way of visualising the data. The best way to display the information we will gather is a plot over the complex plane which shows the argument (the phase, the angle) of the complex root returned by Newton's method. Conveniently, the module `cmath` has a `phase` function which returns the angle of a complex number. First we import the module:"
   ]
  },
  {
   "cell_type": "code",
   "execution_count": 46,
   "metadata": {},
   "outputs": [],
   "source": [
    "import cmath"
   ]
  },
  {
   "cell_type": "markdown",
   "metadata": {},
   "source": [
    "And now we compute the phase of the roots:"
   ]
  },
  {
   "cell_type": "code",
   "execution_count": 47,
   "metadata": {},
   "outputs": [
    {
     "name": "stdout",
     "output_type": "stream",
     "text": [
      "[[-2.0943951  2.0943951]\n",
      " [ 0.         0.       ]]\n"
     ]
    }
   ],
   "source": [
    "phase = np.array([[cmath.phase(z) for z in row] for row in roots])\n",
    "print(phase)"
   ]
  },
  {
   "cell_type": "markdown",
   "metadata": {},
   "source": [
    "All that is left is plotting the information. We will study plotting in detail later on. For now, here is a function that will plot the data nicely:"
   ]
  },
  {
   "cell_type": "code",
   "execution_count": 48,
   "metadata": {},
   "outputs": [],
   "source": [
    "import matplotlib.pyplot as plt\n",
    "\n",
    "def plotArray(x,y,Z):\n",
    "    plt.figure(figsize=(5, 5))\n",
    "    extent=(x[0], x[-1], y[0], y[-1])\n",
    "    plt.imshow(np.transpose(Z), extent=extent, cmap=\"viridis\")"
   ]
  },
  {
   "cell_type": "code",
   "execution_count": 49,
   "metadata": {},
   "outputs": [
    {
     "data": {
      "image/png": "[encoded data removed]",
      "text/plain": [
       "<Figure size 360x360 with 1 Axes>"
      ]
     },
     "metadata": {
      "needs_background": "light"
     },
     "output_type": "display_data"
    }
   ],
   "source": [
    "plotArray(xArray, yArray, phase)"
   ]
  },
  {
   "cell_type": "markdown",
   "metadata": {},
   "source": [
    "To finish, we will write a function which does all of this automatically. Once the function is working, feel free to play with the `scale` and the `number` parameters to get a better picture! This is known as a [Newton Fractal](https://en.wikipedia.org/wiki/Newton_fractal)."
   ]
  },
  {
   "cell_type": "code",
   "execution_count": 50,
   "metadata": {},
   "outputs": [],
   "source": [
    "def newtonFractal(scale, number):\n",
    "    xArray = np.linspace(-scale, scale, number)\n",
    "    yArray = np.linspace(-scale, scale, number)\n",
    "\n",
    "    Z = np.array([[complex(x,y) for y in yArray] for x in xArray])\n",
    "    roots = np.array([[newton(r, rPrime, z, 1.0e-15) for z in row] for row in Z])\n",
    "    phase = np.array([[cmath.phase(z) for z in row] for row in roots])\n",
    "    plotArray(xArray, yArray, phase)"
   ]
  },
  {
   "cell_type": "code",
   "execution_count": 51,
   "metadata": {},
   "outputs": [
    {
     "data": {
      "image/png": "[encoded data removed]",
      "text/plain": [
       "<Figure size 360x360 with 1 Axes>"
      ]
     },
     "metadata": {
      "needs_background": "light"
     },
     "output_type": "display_data"
    }
   ],
   "source": [
    "newtonFractal(0.00001,300)"
   ]
  },
  {
   "cell_type": "markdown",
   "metadata": {},
   "source": [
    "### Other Complex-Plane Fractals\n",
    "\n",
    "There are other iterative processes which yield fractals when computed over the complex plane. The two classical examples are the Mandelbrot and Julia sets.\n",
    "\n",
    "#### The Mandelbrot Set\n",
    "\n",
    "[The Mandelbrot Set](https://en.wikipedia.org/wiki/Mandelbrot_set) is a fractal set which can be computed by studying the iteration\n",
    "$$z_{n+1}=z_{n}^2+c,$$\n",
    "where $z_0=0$ and $c$ is a point on the complex plane. In theory, the points in the fractal are those values of $c$ for which the iteration remains bounded for ever.\n",
    "\n",
    "In practice, we compute a finite number of iterations and check whether $|z_n|>2$ at some point. The `mandelbrot` function takes a `complex` value `c`, iterates using a `for` loop spanning `kMax` iterations, and returns either the first value of `k` such that $|z_k|>2$ or `kMax` if the iteration remains bounded."
   ]
  },
  {
   "cell_type": "code",
   "execution_count": 52,
   "metadata": {},
   "outputs": [],
   "source": [
    "def mandelbrot(c):\n",
    "    z = complex(0,0)\n",
    "    \n",
    "    kMax = 100\n",
    "    \n",
    "    for k in range(0, kMax):\n",
    "        if abs(z) > 2:\n",
    "            return k\n",
    "        \n",
    "        z = z**2 + c\n",
    "    \n",
    "    return kMax"
   ]
  },
  {
   "cell_type": "markdown",
   "metadata": {},
   "source": [
    "Having defined the iteration, we can define the `mandelbrotFractal` function which is extremely similar to `newtonFractal`. Since `mandelbrot` returns an integer value we don't need to process the output before plotting, though instead of plotting `mandelbrot(z)` we plot `math.log(mandelbrot(z)+1)` because it makes the fractal look a bit nicer!"
   ]
  },
  {
   "cell_type": "code",
   "execution_count": 53,
   "metadata": {},
   "outputs": [],
   "source": [
    "def mandelbrotFractal(number, scale=2, centre=complex(0,0)):\n",
    "    xArray = np.linspace(-scale, scale, number) + centre.real\n",
    "    yArray = np.linspace(-scale, scale, number) + centre.imag\n",
    "\n",
    "    Z = np.array([[complex(x,y) for y in yArray] for x in xArray])\n",
    "    values = np.array([[math.log(mandelbrot(z)+1) for z in row] for row in Z])\n",
    "    \n",
    "    plotArray(xArray, yArray, values)"
   ]
  },
  {
   "cell_type": "code",
   "execution_count": 54,
   "metadata": {},
   "outputs": [
    {
     "data": {
      "image/png": "[encoded data removed]",
      "text/plain": [
       "<Figure size 360x360 with 1 Axes>"
      ]
     },
     "metadata": {
      "needs_background": "light"
     },
     "output_type": "display_data"
    },
    {
     "data": {
      "image/png": "[encoded data removed]",
      "text/plain": [
       "<Figure size 360x360 with 1 Axes>"
      ]
     },
     "metadata": {
      "needs_background": "light"
     },
     "output_type": "display_data"
    }
   ],
   "source": [
    "mandelbrotFractal(300)\n",
    "mandelbrotFractal(300, scale=0.01, centre=complex(-1.48,0))"
   ]
  },
  {
   "cell_type": "markdown",
   "metadata": {},
   "source": [
    "#### The Julia Set\n",
    "\n",
    "[The Julia Set](https://en.wikipedia.org/wiki/Julia_set) is very similar to the Mandelbrot set. We use the same iteration,\n",
    "$$z_{n+1}=z_{n}^2+c,$$\n",
    "but this time $c$ is a fixed value for the fractal and $z_0$ is chosen as a point of the complex plane, rather than $0$. The implementation is almost identical!"
   ]
  },
  {
   "cell_type": "code",
   "execution_count": 55,
   "metadata": {},
   "outputs": [],
   "source": [
    "def julia(z0, c):\n",
    "    z = z0\n",
    "    \n",
    "    kMax = 100\n",
    "    \n",
    "    for k in range(0, kMax):\n",
    "        if abs(z) > 2:\n",
    "            return k\n",
    "        \n",
    "        z = z**2 + c\n",
    "    \n",
    "    return kMax"
   ]
  },
  {
   "cell_type": "code",
   "execution_count": 56,
   "metadata": {},
   "outputs": [],
   "source": [
    "def juliaFractal(number, c=complex(0,0), scale=2, centre=complex(0,0)):\n",
    "    xArray = np.linspace(-scale, scale, number) + centre.real\n",
    "    yArray = np.linspace(-scale, scale, number) + centre.imag\n",
    "\n",
    "    Z = np.array([[complex(x,y) for y in yArray] for x in xArray])\n",
    "    values = np.array([[math.log(julia(z, c)+1) for z in row] for row in Z])\n",
    "    \n",
    "    plotArray(xArray, yArray, values)"
   ]
  },
  {
   "cell_type": "code",
   "execution_count": 57,
   "metadata": {},
   "outputs": [
    {
     "data": {
      "image/png": "[encoded data removed]",
      "text/plain": [
       "<Figure size 360x360 with 1 Axes>"
      ]
     },
     "metadata": {
      "needs_background": "light"
     },
     "output_type": "display_data"
    },
    {
     "data": {
      "image/png": "[encoded data removed]",
      "text/plain": [
       "<Figure size 360x360 with 1 Axes>"
      ]
     },
     "metadata": {
      "needs_background": "light"
     },
     "output_type": "display_data"
    }
   ],
   "source": [
    "juliaFractal(300, c=complex(-0.4,0.6))\n",
    "juliaFractal(300, c=complex(0,1))"
   ]
  },
  {
   "cell_type": "code",
   "execution_count": null,
   "metadata": {},
   "outputs": [],
   "source": []
  }
 ],
 "metadata": {
  "kernelspec": {
   "display_name": "Python 3",
   "language": "python",
   "name": "python3"
  },
  "language_info": {
   "codemirror_mode": {
    "name": "ipython",
    "version": 3
   },
   "file_extension": ".py",
   "mimetype": "text/x-python",
   "name": "python",
   "nbconvert_exporter": "python",
   "pygments_lexer": "ipython3",
   "version": "3.6.7"
  }
 },
 "nbformat": 4,
 "nbformat_minor": 2
}
