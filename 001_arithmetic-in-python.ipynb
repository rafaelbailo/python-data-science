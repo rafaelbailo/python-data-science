{
 "cells": [
  {
   "cell_type": "markdown",
   "metadata": {},
   "source": [
    "# I. Numbers, Truncation and Babylonians: Arithmetic in Python\n",
    "\n",
    "## Basic Arithmetic\n",
    "\n",
    "Pyhon can perform basic arithmetic operations:\n",
    "- *Addition*: $a+b$ is written `a + b`.\n",
    "- *Subtraction*: $a-b$ is written `a - b`.\n",
    "- *Multiplication*: $a\\times b$ is written `a * b`.\n",
    "- *Division*: $a\\div b$ is written `a / b`.\n",
    "- *Exponentiation*: $a^b$ is written `a ** b` &mdash; **not** `a ^ b`!\n",
    "- *Remainder*: $a\\bmod b$ is written `a % b`.\n",
    "- *Absolute value* function: $|a|$ is written `abs(a)`.\n",
    "\n",
    "**Example:** Calculate $1+6$."
   ]
  },
  {
   "cell_type": "code",
   "execution_count": 1,
   "metadata": {},
   "outputs": [
    {
     "data": {
      "text/plain": [
       "7"
      ]
     },
     "execution_count": 1,
     "metadata": {},
     "output_type": "execute_result"
    }
   ],
   "source": [
    "1+6"
   ]
  },
  {
   "cell_type": "markdown",
   "metadata": {},
   "source": [
    "**Example:** Calculate $3-5$."
   ]
  },
  {
   "cell_type": "code",
   "execution_count": 2,
   "metadata": {},
   "outputs": [
    {
     "data": {
      "text/plain": [
       "-2"
      ]
     },
     "execution_count": 2,
     "metadata": {},
     "output_type": "execute_result"
    }
   ],
   "source": [
    "3-5"
   ]
  },
  {
   "cell_type": "markdown",
   "metadata": {},
   "source": [
    "**Example:** Calculate $7\\times 3$."
   ]
  },
  {
   "cell_type": "code",
   "execution_count": 3,
   "metadata": {},
   "outputs": [
    {
     "data": {
      "text/plain": [
       "21"
      ]
     },
     "execution_count": 3,
     "metadata": {},
     "output_type": "execute_result"
    }
   ],
   "source": [
    "7*3"
   ]
  },
  {
   "cell_type": "markdown",
   "metadata": {},
   "source": [
    "**Example:** Calculate $12\\div 4$."
   ]
  },
  {
   "cell_type": "code",
   "execution_count": 4,
   "metadata": {},
   "outputs": [
    {
     "data": {
      "text/plain": [
       "3.0"
      ]
     },
     "execution_count": 4,
     "metadata": {},
     "output_type": "execute_result"
    }
   ],
   "source": [
    "12/4"
   ]
  },
  {
   "cell_type": "markdown",
   "metadata": {},
   "source": [
    "Note that division returns a decimal number, not an integer! This is a feature of Python 3; division used to work differently in Python 2. Always check you have the right version."
   ]
  },
  {
   "cell_type": "code",
   "execution_count": 5,
   "metadata": {},
   "outputs": [
    {
     "data": {
      "text/plain": [
       "3.142857142857143"
      ]
     },
     "execution_count": 5,
     "metadata": {},
     "output_type": "execute_result"
    }
   ],
   "source": [
    "22/7"
   ]
  },
  {
   "cell_type": "markdown",
   "metadata": {},
   "source": [
    "In programming, the representation of a decimal number is called a floating-point number &mdash; `float` for short. An integer is something different &mdash; an `int`."
   ]
  },
  {
   "cell_type": "code",
   "execution_count": 6,
   "metadata": {},
   "outputs": [
    {
     "data": {
      "text/plain": [
       "int"
      ]
     },
     "execution_count": 6,
     "metadata": {},
     "output_type": "execute_result"
    }
   ],
   "source": [
    "type(3)"
   ]
  },
  {
   "cell_type": "code",
   "execution_count": 7,
   "metadata": {},
   "outputs": [
    {
     "data": {
      "text/plain": [
       "float"
      ]
     },
     "execution_count": 7,
     "metadata": {},
     "output_type": "execute_result"
    }
   ],
   "source": [
    "type(3.0)"
   ]
  },
  {
   "cell_type": "markdown",
   "metadata": {},
   "source": [
    "Most arithmetic in python works indistinguishably for floats and ints."
   ]
  },
  {
   "cell_type": "code",
   "execution_count": 8,
   "metadata": {},
   "outputs": [
    {
     "data": {
      "text/plain": [
       "3.0"
      ]
     },
     "execution_count": 8,
     "metadata": {},
     "output_type": "execute_result"
    }
   ],
   "source": [
    "12/4"
   ]
  },
  {
   "cell_type": "code",
   "execution_count": 9,
   "metadata": {},
   "outputs": [
    {
     "data": {
      "text/plain": [
       "3.0"
      ]
     },
     "execution_count": 9,
     "metadata": {},
     "output_type": "execute_result"
    }
   ],
   "source": [
    "12.0/4"
   ]
  },
  {
   "cell_type": "code",
   "execution_count": 10,
   "metadata": {},
   "outputs": [
    {
     "data": {
      "text/plain": [
       "3.0"
      ]
     },
     "execution_count": 10,
     "metadata": {},
     "output_type": "execute_result"
    }
   ],
   "source": [
    "12/4.0"
   ]
  },
  {
   "cell_type": "code",
   "execution_count": 11,
   "metadata": {},
   "outputs": [
    {
     "data": {
      "text/plain": [
       "3.0"
      ]
     },
     "execution_count": 11,
     "metadata": {},
     "output_type": "execute_result"
    }
   ],
   "source": [
    "12.0/4.0"
   ]
  },
  {
   "cell_type": "markdown",
   "metadata": {},
   "source": [
    "Python can also perform integer division:\n",
    "$\\lfloor a\\div b\\rfloor$ is written `a // b`. This always returns an `int`."
   ]
  },
  {
   "cell_type": "markdown",
   "metadata": {},
   "source": [
    "**Example:** Calculate $\\lfloor 12\\div 4 \\rfloor$."
   ]
  },
  {
   "cell_type": "code",
   "execution_count": 12,
   "metadata": {},
   "outputs": [
    {
     "data": {
      "text/plain": [
       "3"
      ]
     },
     "execution_count": 12,
     "metadata": {},
     "output_type": "execute_result"
    }
   ],
   "source": [
    "12//4"
   ]
  },
  {
   "cell_type": "markdown",
   "metadata": {},
   "source": [
    "**Example:** Calculate $\\lfloor 13\\div 4 \\rfloor$."
   ]
  },
  {
   "cell_type": "code",
   "execution_count": 13,
   "metadata": {},
   "outputs": [
    {
     "data": {
      "text/plain": [
       "3"
      ]
     },
     "execution_count": 13,
     "metadata": {},
     "output_type": "execute_result"
    }
   ],
   "source": [
    "13//4"
   ]
  },
  {
   "cell_type": "markdown",
   "metadata": {},
   "source": [
    "**Example:** Calculate $2^3$ &mdash; using `**`, **not** `^`."
   ]
  },
  {
   "cell_type": "code",
   "execution_count": 14,
   "metadata": {},
   "outputs": [
    {
     "data": {
      "text/plain": [
       "3"
      ]
     },
     "execution_count": 14,
     "metadata": {},
     "output_type": "execute_result"
    }
   ],
   "source": [
    "2^1"
   ]
  },
  {
   "cell_type": "code",
   "execution_count": 15,
   "metadata": {},
   "outputs": [
    {
     "data": {
      "text/plain": [
       "8"
      ]
     },
     "execution_count": 15,
     "metadata": {},
     "output_type": "execute_result"
    }
   ],
   "source": [
    "2**3"
   ]
  },
  {
   "cell_type": "markdown",
   "metadata": {},
   "source": [
    "**Example:** Calculate $13\\bmod 4$."
   ]
  },
  {
   "cell_type": "code",
   "execution_count": 16,
   "metadata": {},
   "outputs": [
    {
     "data": {
      "text/plain": [
       "1"
      ]
     },
     "execution_count": 16,
     "metadata": {},
     "output_type": "execute_result"
    }
   ],
   "source": [
    "13%4"
   ]
  },
  {
   "cell_type": "markdown",
   "metadata": {},
   "source": [
    "**Example:** Calculate $|-3|$."
   ]
  },
  {
   "cell_type": "code",
   "execution_count": 17,
   "metadata": {},
   "outputs": [
    {
     "data": {
      "text/plain": [
       "3"
      ]
     },
     "execution_count": 17,
     "metadata": {},
     "output_type": "execute_result"
    }
   ],
   "source": [
    "abs(-3)"
   ]
  },
  {
   "cell_type": "markdown",
   "metadata": {},
   "source": [
    "### Order of Operations\n",
    "\n",
    "The order of operations in python is the usual:\n",
    "1. Exponentiation.\n",
    "1. Multiplication/division.\n",
    "1. Addition/subtraction.\n",
    "\n",
    "**Example:** Calculate $1+2\\times 3^2$."
   ]
  },
  {
   "cell_type": "code",
   "execution_count": 18,
   "metadata": {},
   "outputs": [
    {
     "data": {
      "text/plain": [
       "19"
      ]
     },
     "execution_count": 18,
     "metadata": {},
     "output_type": "execute_result"
    }
   ],
   "source": [
    "1+2*3**2"
   ]
  },
  {
   "cell_type": "markdown",
   "metadata": {},
   "source": [
    "Parentheses can be used to alter the order of execution.\n",
    "\n",
    "**Example:** $1+2\\times 3^2$ is the same as $1+(2\\times 3^2)$, but $(1+2)\\times 3^2$ is the same as $3^3$."
   ]
  },
  {
   "cell_type": "code",
   "execution_count": 19,
   "metadata": {},
   "outputs": [
    {
     "data": {
      "text/plain": [
       "19"
      ]
     },
     "execution_count": 19,
     "metadata": {},
     "output_type": "execute_result"
    }
   ],
   "source": [
    "1+2*3**2"
   ]
  },
  {
   "cell_type": "code",
   "execution_count": 20,
   "metadata": {},
   "outputs": [
    {
     "data": {
      "text/plain": [
       "19"
      ]
     },
     "execution_count": 20,
     "metadata": {},
     "output_type": "execute_result"
    }
   ],
   "source": [
    "1+(2*3**2)"
   ]
  },
  {
   "cell_type": "code",
   "execution_count": 21,
   "metadata": {},
   "outputs": [
    {
     "data": {
      "text/plain": [
       "27"
      ]
     },
     "execution_count": 21,
     "metadata": {},
     "output_type": "execute_result"
    }
   ],
   "source": [
    "(1+2)*3**2"
   ]
  },
  {
   "cell_type": "markdown",
   "metadata": {},
   "source": [
    "## Arithmetic from Modules\n",
    "\n",
    "We can use *modules* to increase Python's functionality.\n",
    "\n",
    "### The `math` Module\n",
    "\n",
    "Modules are not available by default. Before we can use the `math` module, we have to *import* it. Evaluating `math` without importing the module first will throw an error &mdash; try it to see what errors look like. If you first run `import math`, the module then becomes available."
   ]
  },
  {
   "cell_type": "code",
   "execution_count": 22,
   "metadata": {},
   "outputs": [],
   "source": [
    "import math"
   ]
  },
  {
   "cell_type": "code",
   "execution_count": 23,
   "metadata": {},
   "outputs": [
    {
     "data": {
      "text/plain": [
       "<module 'math' (built-in)>"
      ]
     },
     "execution_count": 23,
     "metadata": {},
     "output_type": "execute_result"
    }
   ],
   "source": [
    "math"
   ]
  },
  {
   "cell_type": "markdown",
   "metadata": {},
   "source": [
    "#### Dot Notation\n",
    "\n",
    "To access a given tool of the `math` module we use the *dot notation*: `math.tool`. For instance, the `math` module includes mathematical constant $e$, which can be accessed using `math.e`."
   ]
  },
  {
   "cell_type": "code",
   "execution_count": 24,
   "metadata": {},
   "outputs": [
    {
     "data": {
      "text/plain": [
       "2.718281828459045"
      ]
     },
     "execution_count": 24,
     "metadata": {},
     "output_type": "execute_result"
    }
   ],
   "source": [
    "math.e"
   ]
  },
  {
   "cell_type": "markdown",
   "metadata": {},
   "source": [
    "**Example:** Evaluate $\\pi$ and $\\tau$."
   ]
  },
  {
   "cell_type": "code",
   "execution_count": 25,
   "metadata": {},
   "outputs": [
    {
     "data": {
      "text/plain": [
       "3.141592653589793"
      ]
     },
     "execution_count": 25,
     "metadata": {},
     "output_type": "execute_result"
    }
   ],
   "source": [
    "math.pi"
   ]
  },
  {
   "cell_type": "code",
   "execution_count": 26,
   "metadata": {},
   "outputs": [
    {
     "data": {
      "text/plain": [
       "6.283185307179586"
      ]
     },
     "execution_count": 26,
     "metadata": {},
     "output_type": "execute_result"
    }
   ],
   "source": [
    "math.tau"
   ]
  },
  {
   "cell_type": "markdown",
   "metadata": {},
   "source": [
    "#### Power Function\n",
    "\n",
    "The `math` module includes a power function, `math.pow`:"
   ]
  },
  {
   "cell_type": "code",
   "execution_count": 27,
   "metadata": {},
   "outputs": [
    {
     "data": {
      "text/plain": [
       "<function math.pow>"
      ]
     },
     "execution_count": 27,
     "metadata": {},
     "output_type": "execute_result"
    }
   ],
   "source": [
    "math.pow"
   ]
  },
  {
   "cell_type": "markdown",
   "metadata": {},
   "source": [
    "We can use the `help` function to find out how to use `math.pow`:"
   ]
  },
  {
   "cell_type": "code",
   "execution_count": 28,
   "metadata": {},
   "outputs": [
    {
     "name": "stdout",
     "output_type": "stream",
     "text": [
      "Help on built-in function pow in module math:\n",
      "\n",
      "pow(...)\n",
      "    pow(x, y)\n",
      "    \n",
      "    Return x**y (x to the power of y).\n",
      "\n"
     ]
    }
   ],
   "source": [
    "help(math.pow)"
   ]
  },
  {
   "cell_type": "markdown",
   "metadata": {},
   "source": [
    "**Example:** Calculate $2^3$ using `math.pow`."
   ]
  },
  {
   "cell_type": "code",
   "execution_count": 29,
   "metadata": {},
   "outputs": [
    {
     "data": {
      "text/plain": [
       "8.0"
      ]
     },
     "execution_count": 29,
     "metadata": {},
     "output_type": "execute_result"
    }
   ],
   "source": [
    "math.pow(2,3)"
   ]
  },
  {
   "cell_type": "markdown",
   "metadata": {},
   "source": [
    "The `math.pow` function is not the same as the `**` operator, but the differences are only technical. For instance, `**` sometimes returns an `int`, whereas `math.pow` always returns a `float`."
   ]
  },
  {
   "cell_type": "code",
   "execution_count": 30,
   "metadata": {},
   "outputs": [
    {
     "data": {
      "text/plain": [
       "8"
      ]
     },
     "execution_count": 30,
     "metadata": {},
     "output_type": "execute_result"
    }
   ],
   "source": [
    "2**3"
   ]
  },
  {
   "cell_type": "code",
   "execution_count": 31,
   "metadata": {},
   "outputs": [
    {
     "data": {
      "text/plain": [
       "8.0"
      ]
     },
     "execution_count": 31,
     "metadata": {},
     "output_type": "execute_result"
    }
   ],
   "source": [
    "math.pow(2,3)"
   ]
  },
  {
   "cell_type": "markdown",
   "metadata": {},
   "source": [
    "However, both functions agree numerically."
   ]
  },
  {
   "cell_type": "code",
   "execution_count": 32,
   "metadata": {},
   "outputs": [
    {
     "data": {
      "text/plain": [
       "1.4142135623730951"
      ]
     },
     "execution_count": 32,
     "metadata": {},
     "output_type": "execute_result"
    }
   ],
   "source": [
    "2**0.5"
   ]
  },
  {
   "cell_type": "code",
   "execution_count": 33,
   "metadata": {},
   "outputs": [
    {
     "data": {
      "text/plain": [
       "1.4142135623730951"
      ]
     },
     "execution_count": 33,
     "metadata": {},
     "output_type": "execute_result"
    }
   ],
   "source": [
    "math.pow(2,0.5)"
   ]
  },
  {
   "cell_type": "code",
   "execution_count": 34,
   "metadata": {},
   "outputs": [
    {
     "data": {
      "text/plain": [
       "0.0"
      ]
     },
     "execution_count": 34,
     "metadata": {},
     "output_type": "execute_result"
    }
   ],
   "source": [
    "(2**0.5) - (math.pow(2,0.5))"
   ]
  },
  {
   "cell_type": "markdown",
   "metadata": {},
   "source": [
    "#### Other Useful Functions\n",
    "\n",
    "- *Square root*: `math.sqrt`.\n",
    "\n",
    "**Example:** Calculate $\\sqrt{2}$."
   ]
  },
  {
   "cell_type": "code",
   "execution_count": 35,
   "metadata": {},
   "outputs": [
    {
     "data": {
      "text/plain": [
       "1.4142135623730951"
      ]
     },
     "execution_count": 35,
     "metadata": {},
     "output_type": "execute_result"
    }
   ],
   "source": [
    "math.sqrt(2)"
   ]
  },
  {
   "cell_type": "markdown",
   "metadata": {},
   "source": [
    "- *Exponential*: `math.exp`.\n",
    "\n",
    "**Example:** Calculate $\\exp(0)$ and $\\exp(1)$."
   ]
  },
  {
   "cell_type": "code",
   "execution_count": 36,
   "metadata": {},
   "outputs": [
    {
     "data": {
      "text/plain": [
       "1.0"
      ]
     },
     "execution_count": 36,
     "metadata": {},
     "output_type": "execute_result"
    }
   ],
   "source": [
    "math.exp(0)"
   ]
  },
  {
   "cell_type": "code",
   "execution_count": 37,
   "metadata": {},
   "outputs": [
    {
     "data": {
      "text/plain": [
       "2.718281828459045"
      ]
     },
     "execution_count": 37,
     "metadata": {},
     "output_type": "execute_result"
    }
   ],
   "source": [
    "math.exp(1)"
   ]
  },
  {
   "cell_type": "markdown",
   "metadata": {},
   "source": [
    "- *Logarithm*: `math.log`.\n",
    " - In base $2$: `math.log2`.\n",
    " - In base $10$: `math.log10`.\n",
    "\n",
    "**Example:** Calculate $\\log(1)$, $\\log_2(8)$ and $\\log_{10}(100)$."
   ]
  },
  {
   "cell_type": "code",
   "execution_count": 38,
   "metadata": {},
   "outputs": [
    {
     "data": {
      "text/plain": [
       "0.0"
      ]
     },
     "execution_count": 38,
     "metadata": {},
     "output_type": "execute_result"
    }
   ],
   "source": [
    "math.log(1)"
   ]
  },
  {
   "cell_type": "code",
   "execution_count": 39,
   "metadata": {},
   "outputs": [
    {
     "data": {
      "text/plain": [
       "3.0"
      ]
     },
     "execution_count": 39,
     "metadata": {},
     "output_type": "execute_result"
    }
   ],
   "source": [
    "math.log2(8)"
   ]
  },
  {
   "cell_type": "code",
   "execution_count": 40,
   "metadata": {},
   "outputs": [
    {
     "data": {
      "text/plain": [
       "2.0"
      ]
     },
     "execution_count": 40,
     "metadata": {},
     "output_type": "execute_result"
    }
   ],
   "source": [
    "math.log10(100)"
   ]
  },
  {
   "cell_type": "markdown",
   "metadata": {},
   "source": [
    "**Example:** Check that `math.exp` and `math.log` are inverses by evaluating $\\log(\\exp(42))$ and $\\exp(\\log(42))$."
   ]
  },
  {
   "cell_type": "code",
   "execution_count": 41,
   "metadata": {},
   "outputs": [
    {
     "data": {
      "text/plain": [
       "42.0"
      ]
     },
     "execution_count": 41,
     "metadata": {},
     "output_type": "execute_result"
    }
   ],
   "source": [
    "math.log(math.exp(42))"
   ]
  },
  {
   "cell_type": "code",
   "execution_count": 42,
   "metadata": {},
   "outputs": [
    {
     "data": {
      "text/plain": [
       "42.00000000000001"
      ]
     },
     "execution_count": 42,
     "metadata": {},
     "output_type": "execute_result"
    }
   ],
   "source": [
    "math.exp(math.log(42))"
   ]
  },
  {
   "cell_type": "markdown",
   "metadata": {},
   "source": [
    "And so the jig is up! `math.exp(math.log(42))` does not return *exactly* 42. There is some error:"
   ]
  },
  {
   "cell_type": "code",
   "execution_count": 43,
   "metadata": {},
   "outputs": [
    {
     "data": {
      "text/plain": [
       "7.105427357601002e-15"
      ]
     },
     "execution_count": 43,
     "metadata": {},
     "output_type": "execute_result"
    }
   ],
   "source": [
    "math.exp(math.log(42))-42"
   ]
  },
  {
   "cell_type": "markdown",
   "metadata": {},
   "source": [
    "Computers cannot in general store numbers with full accuracy. A *typical* real number is irrational, which means it has an infinite, non-periodic decimal expansion. For instance:\n",
    "$$\\pi=3.1415926535897932384626433832795028841971693993751058209749445923078164062\\ldots$$\n",
    "Due to finite memory and finite processing power, computers have to truncate such numbers:"
   ]
  },
  {
   "cell_type": "code",
   "execution_count": 44,
   "metadata": {},
   "outputs": [
    {
     "data": {
      "text/plain": [
       "3.141592653589793"
      ]
     },
     "execution_count": 44,
     "metadata": {},
     "output_type": "execute_result"
    }
   ],
   "source": [
    "math.pi"
   ]
  },
  {
   "cell_type": "markdown",
   "metadata": {},
   "source": [
    "$$\\pi\\simeq 3.141592653589793.$$\n",
    "Truncation errors can appear every now and then, and you should keep an eye out of them!"
   ]
  },
  {
   "cell_type": "markdown",
   "metadata": {},
   "source": [
    "## The Babylonian Square Root\n",
    "\n",
    "The ancient Babylonians knew a pretty good method to compute square roots by hand. We are going to implement our own square root function using this method.\n",
    "\n",
    "### The Algorithm\n",
    "Suppose we want to estimate $r$, the square root of a given number $s=r^2$. The Babylonians gave us the following recipe:\n",
    "\n",
    "- Take an initial guess for $r$, call it $x_0$. \n",
    "- Compute the update $x_{n+1}$ from the previous step $x_n$ using the rule:\n",
    "$$x_{n+1}=\\frac{x_n+\\frac{s}{x_n}}{2}.$$\n",
    "- Repeat until you're bored &mdash; or until enough decimal places of $x_n$ remain the same between updates.\n",
    "\n",
    "### Is this Magic?\n",
    "Can you think of a reason why this works at all? What happens if $x_n$ is not just an estimate, but actually equal to $r$?\n",
    "\n",
    "### The Implementation\n",
    "We can do this in Python of course! We can try to compute the square root of 2. First, we need an initial guess $x_0$; $x_0=1.5$ is clearly wrong but it is close enough for a start. We need a way to store it, and we can use a *variable* for that.\n",
    "\n",
    "Executing `x0 = 1.5` will create a variable called `x0` and store the value `1.5` in it."
   ]
  },
  {
   "cell_type": "code",
   "execution_count": 45,
   "metadata": {},
   "outputs": [],
   "source": [
    "x0=1.5"
   ]
  },
  {
   "cell_type": "markdown",
   "metadata": {},
   "source": [
    "We can now call the variable to retrieve the value."
   ]
  },
  {
   "cell_type": "code",
   "execution_count": 46,
   "metadata": {},
   "outputs": [
    {
     "data": {
      "text/plain": [
       "1.5"
      ]
     },
     "execution_count": 46,
     "metadata": {},
     "output_type": "execute_result"
    }
   ],
   "source": [
    "x0"
   ]
  },
  {
   "cell_type": "markdown",
   "metadata": {},
   "source": [
    "This should remind you of executing `math.pi` &mdash; there, the variable had already been created for us.\n",
    "\n",
    "We can also store $s=2$,"
   ]
  },
  {
   "cell_type": "code",
   "execution_count": 47,
   "metadata": {},
   "outputs": [],
   "source": [
    "s=2"
   ]
  },
  {
   "cell_type": "markdown",
   "metadata": {},
   "source": [
    "and, even though this is cheating, we can store the value of $r$ too and use to check our method works."
   ]
  },
  {
   "cell_type": "code",
   "execution_count": 48,
   "metadata": {},
   "outputs": [],
   "source": [
    "r=math.sqrt(2)"
   ]
  },
  {
   "cell_type": "markdown",
   "metadata": {},
   "source": [
    "We can check the value stored in the variable using the function `print` as well."
   ]
  },
  {
   "cell_type": "code",
   "execution_count": 49,
   "metadata": {},
   "outputs": [
    {
     "name": "stdout",
     "output_type": "stream",
     "text": [
      "1.4142135623730951\n"
     ]
    }
   ],
   "source": [
    "print(r)"
   ]
  },
  {
   "cell_type": "markdown",
   "metadata": {},
   "source": [
    "The steps are clear now. $x_1$:"
   ]
  },
  {
   "cell_type": "code",
   "execution_count": 50,
   "metadata": {},
   "outputs": [],
   "source": [
    "x1=(x0+s/x0)/2"
   ]
  },
  {
   "cell_type": "code",
   "execution_count": 51,
   "metadata": {},
   "outputs": [
    {
     "name": "stdout",
     "output_type": "stream",
     "text": [
      "1.4166666666666665 0.002453104293571373\n"
     ]
    }
   ],
   "source": [
    "print(x1, abs(r-x1))"
   ]
  },
  {
   "cell_type": "markdown",
   "metadata": {},
   "source": [
    "Then, $x_2$:"
   ]
  },
  {
   "cell_type": "code",
   "execution_count": 52,
   "metadata": {},
   "outputs": [],
   "source": [
    "x2=(x1+s/x1)/2"
   ]
  },
  {
   "cell_type": "code",
   "execution_count": 53,
   "metadata": {},
   "outputs": [
    {
     "name": "stdout",
     "output_type": "stream",
     "text": [
      "1.4142156862745097 2.123901414519125e-06\n"
     ]
    }
   ],
   "source": [
    "print(x2, abs(r-x2))"
   ]
  },
  {
   "cell_type": "markdown",
   "metadata": {},
   "source": [
    "Then, $x_3$:"
   ]
  },
  {
   "cell_type": "code",
   "execution_count": 54,
   "metadata": {},
   "outputs": [],
   "source": [
    "x3=(x2+s/x2)/2"
   ]
  },
  {
   "cell_type": "code",
   "execution_count": 55,
   "metadata": {},
   "outputs": [
    {
     "name": "stdout",
     "output_type": "stream",
     "text": [
      "1.4142135623746899 1.5947243525715749e-12\n"
     ]
    }
   ],
   "source": [
    "print(x3, abs(r-x3))"
   ]
  },
  {
   "cell_type": "markdown",
   "metadata": {},
   "source": [
    "### Looping\n",
    "This is clearly not optimal! We need to execute a command that can be recycled for every step. Instead of storing each $x_n$, why not have a single variable `x` that changes with each update? If we initialise the variables:"
   ]
  },
  {
   "cell_type": "code",
   "execution_count": 56,
   "metadata": {},
   "outputs": [],
   "source": [
    "r=math.sqrt(2)\n",
    "s=r*r\n",
    "x=1.5"
   ]
  },
  {
   "cell_type": "markdown",
   "metadata": {},
   "source": [
    "The code that repeats each time is just:"
   ]
  },
  {
   "cell_type": "code",
   "execution_count": 57,
   "metadata": {},
   "outputs": [
    {
     "name": "stdout",
     "output_type": "stream",
     "text": [
      "1.416666666666667 0.0024531042935718173\n"
     ]
    }
   ],
   "source": [
    "xNext=(x+s/x)/2\n",
    "x=xNext\n",
    "\n",
    "print(x, abs(r-x))"
   ]
  },
  {
   "cell_type": "markdown",
   "metadata": {},
   "source": [
    "Try executing the cell above several times to see how the algorithm converges. You can also try different values of $r$.\n",
    "\n",
    "This is nice, but we would like the repetition process to be fully automatic. We need a way of telling Python to repeat some code several times. For this, we can use a `for` loop."
   ]
  },
  {
   "cell_type": "code",
   "execution_count": 58,
   "metadata": {},
   "outputs": [
    {
     "name": "stdout",
     "output_type": "stream",
     "text": [
      "0\n",
      "1\n",
      "2\n"
     ]
    }
   ],
   "source": [
    "for k in range(0, 3):\n",
    "    print(k)"
   ]
  },
  {
   "cell_type": "markdown",
   "metadata": {},
   "source": [
    "The code above is a `for` loop. The notation is very short and tidy, but there are several things to notice:\n",
    "- The `for` loop executes the code inside it (`print(k)`) several times.\n",
    "- The code inside the loop comes after the colon (`:`) and is **indented** with the `tab` key.\n",
    "- The function `range(0,3)` produces a list of numbers from `0` up to, but not including, `3`.\n",
    "- The variable `k` takes a different value each time the code runs. The values are determined by whatever comes after the `in` keyword.\n",
    "\n",
    "We do not need to use `range` to make a for loop; instead we can make our own list by putting numbers inside square brackets, separated by commas: `[a,b,c,d]`"
   ]
  },
  {
   "cell_type": "code",
   "execution_count": 59,
   "metadata": {},
   "outputs": [
    {
     "name": "stdout",
     "output_type": "stream",
     "text": [
      "1\n",
      "2\n",
      "5\n",
      "14\n"
     ]
    }
   ],
   "source": [
    "for k in [1,2,5,14]:\n",
    "    print(k)"
   ]
  },
  {
   "cell_type": "markdown",
   "metadata": {},
   "source": [
    "Why not put the Babylonian root algorithm inside a loop? Try computing the square root of `math.pi`, using a loop that iterates $10$ times."
   ]
  },
  {
   "cell_type": "code",
   "execution_count": 60,
   "metadata": {},
   "outputs": [
    {
     "name": "stdout",
     "output_type": "stream",
     "text": [
      "2.0707963267948966\n",
      "1.7939451563922244\n",
      "1.772582582882042\n",
      "1.7724538555800293\n",
      "1.7724538509055159\n",
      "1.7724538509055159\n",
      "1.7724538509055159\n",
      "1.7724538509055159\n",
      "1.7724538509055159\n",
      "1.7724538509055159\n"
     ]
    }
   ],
   "source": [
    "s=math.pi\n",
    "x=s\n",
    "\n",
    "for k in range(0,10):\n",
    "    xNext=(x+s/x)/2\n",
    "    x=xNext\n",
    "    print(x)"
   ]
  },
  {
   "cell_type": "markdown",
   "metadata": {},
   "source": [
    "Now try the root of `1000*math.pi`, using the same loop."
   ]
  },
  {
   "cell_type": "code",
   "execution_count": 61,
   "metadata": {},
   "outputs": [
    {
     "name": "stdout",
     "output_type": "stream",
     "text": [
      "1571.2963267948965\n",
      "786.647845188851\n",
      "395.3207453613115\n",
      "201.63384572811555\n",
      "108.60726342480356\n",
      "68.76671896146472\n",
      "57.22575112770238\n",
      "56.061992365998165\n",
      "56.04991346549636\n",
      "56.0499121639793\n"
     ]
    }
   ],
   "source": [
    "s=math.pi*1000\n",
    "x=s\n",
    "\n",
    "for k in range(0,10):\n",
    "    xNext=(x+s/x)/2\n",
    "    x=xNext\n",
    "    print(x)"
   ]
  },
  {
   "cell_type": "markdown",
   "metadata": {},
   "source": [
    "We need more iterations. We will have to run the code again, this time changing the loop to `range(0,20)`."
   ]
  },
  {
   "cell_type": "code",
   "execution_count": 62,
   "metadata": {},
   "outputs": [
    {
     "name": "stdout",
     "output_type": "stream",
     "text": [
      "1571.2963267948965\n",
      "786.647845188851\n",
      "395.3207453613115\n",
      "201.63384572811555\n",
      "108.60726342480356\n",
      "68.76671896146472\n",
      "57.22575112770238\n",
      "56.061992365998165\n",
      "56.04991346549636\n",
      "56.0499121639793\n",
      "56.049912163979286\n",
      "56.049912163979286\n",
      "56.049912163979286\n",
      "56.049912163979286\n",
      "56.049912163979286\n",
      "56.049912163979286\n",
      "56.049912163979286\n",
      "56.049912163979286\n",
      "56.049912163979286\n",
      "56.049912163979286\n"
     ]
    }
   ],
   "source": [
    "s=math.pi*1000\n",
    "x=s\n",
    "\n",
    "for k in range(0,20):\n",
    "    xNext=(x+s/x)/2\n",
    "    x=xNext\n",
    "    print(x)"
   ]
  },
  {
   "cell_type": "markdown",
   "metadata": {},
   "source": [
    "### Functions\n",
    "Having to copy and paste code all over the place is also far from ideal. Ultimately we are always running the same code, just changing the argument of the square root or the number of iterations. The rest of the code could and should be recycled.\n",
    "\n",
    "In order to recycle code, we can put it inside a function."
   ]
  },
  {
   "cell_type": "code",
   "execution_count": 63,
   "metadata": {},
   "outputs": [],
   "source": [
    "def my_function():\n",
    "  print(\"This is a function\")"
   ]
  },
  {
   "cell_type": "markdown",
   "metadata": {},
   "source": [
    "This defines `my_function`. The code after the colon (`:`) is indented like in a `for` loop, and will run every time the function is called. We have only defined the function above; in order to run it, we have to call the function by executing `my_function()`."
   ]
  },
  {
   "cell_type": "code",
   "execution_count": 64,
   "metadata": {},
   "outputs": [
    {
     "name": "stdout",
     "output_type": "stream",
     "text": [
      "This is a function\n"
     ]
    }
   ],
   "source": [
    "my_function()"
   ]
  },
  {
   "cell_type": "markdown",
   "metadata": {},
   "source": [
    "A function can take an *argument* and can also *return* a value at the end. For instance, we can write a function that doubles a number:"
   ]
  },
  {
   "cell_type": "code",
   "execution_count": 65,
   "metadata": {},
   "outputs": [],
   "source": [
    "def times_two(x):\n",
    "    return 2*x"
   ]
  },
  {
   "cell_type": "markdown",
   "metadata": {},
   "source": [
    "Try using the function to compute $2\\pi$."
   ]
  },
  {
   "cell_type": "code",
   "execution_count": 66,
   "metadata": {},
   "outputs": [
    {
     "data": {
      "text/plain": [
       "6.283185307179586"
      ]
     },
     "execution_count": 66,
     "metadata": {},
     "output_type": "execute_result"
    }
   ],
   "source": [
    "times_two(math.pi)"
   ]
  },
  {
   "cell_type": "markdown",
   "metadata": {},
   "source": [
    "A function can also take more than one argument. We can write an average function:"
   ]
  },
  {
   "cell_type": "code",
   "execution_count": 67,
   "metadata": {},
   "outputs": [],
   "source": [
    "def average(a,b):\n",
    "    return (a+b)/2"
   ]
  },
  {
   "cell_type": "markdown",
   "metadata": {},
   "source": [
    "Try to compute the average of $5$ and $7$."
   ]
  },
  {
   "cell_type": "code",
   "execution_count": 68,
   "metadata": {},
   "outputs": [
    {
     "data": {
      "text/plain": [
       "6.0"
      ]
     },
     "execution_count": 68,
     "metadata": {},
     "output_type": "execute_result"
    }
   ],
   "source": [
    "average(5,7)"
   ]
  },
  {
   "cell_type": "markdown",
   "metadata": {},
   "source": [
    "These examples are not very useful, but we can certainly put the Babylonian code inside a function, and we can even print the difference between `x` and `xNext` at every step."
   ]
  },
  {
   "cell_type": "code",
   "execution_count": 69,
   "metadata": {},
   "outputs": [],
   "source": [
    "def babylonianRoot(s, n):\n",
    "    x=s\n",
    "    \n",
    "    for k in range(0,n):\n",
    "        xNext=(x+s/x)/2\n",
    "        print(\"Difference: \"+str(abs(xNext-x)))\n",
    "        x=xNext\n",
    "    \n",
    "    return x"
   ]
  },
  {
   "cell_type": "code",
   "execution_count": 70,
   "metadata": {},
   "outputs": [
    {
     "name": "stdout",
     "output_type": "stream",
     "text": [
      "Difference: 1570.2963267948965\n",
      "Difference: 784.6484816060455\n",
      "Difference: 391.3270998275395\n",
      "Difference: 193.68689963319594\n",
      "Difference: 93.02658230331198\n",
      "Difference: 39.840544463338844\n",
      "Difference: 11.540967833762338\n",
      "Difference: 1.1637587617042158\n",
      "Difference: 0.012078900501805379\n",
      "Difference: 1.3015170594599113e-06\n",
      "Difference: 1.4210854715202004e-14\n",
      "Difference: 0.0\n",
      "Difference: 0.0\n",
      "Difference: 0.0\n",
      "Difference: 0.0\n",
      "Difference: 0.0\n",
      "Difference: 0.0\n",
      "Difference: 0.0\n",
      "Difference: 0.0\n",
      "Difference: 0.0\n"
     ]
    },
    {
     "data": {
      "text/plain": [
       "56.049912163979286"
      ]
     },
     "execution_count": 70,
     "metadata": {},
     "output_type": "execute_result"
    }
   ],
   "source": [
    "babylonianRoot(math.pi*1000,20)"
   ]
  },
  {
   "cell_type": "markdown",
   "metadata": {},
   "source": [
    "### Conditionals\n",
    "Would it not be nice if we could stop the looping once the difference becomes zero?\n",
    "\n",
    "We can use a *conditional* to ask the program a question at each iteration. For instance, given a number, we can check whether it is even or odd. For this we use an `if` statement."
   ]
  },
  {
   "cell_type": "code",
   "execution_count": 71,
   "metadata": {},
   "outputs": [
    {
     "name": "stdout",
     "output_type": "stream",
     "text": [
      "Even\n"
     ]
    }
   ],
   "source": [
    "x = 2\n",
    "if (x%2)==0:\n",
    "    print(\"Even\")\n",
    "else:\n",
    "    print(\"Odd\")"
   ]
  },
  {
   "cell_type": "markdown",
   "metadata": {},
   "source": [
    "The `if` statement checks whether a condition (the code after the `if` and before the `:`) is `true`. If it is `true`, it will execute the code after the `:`. If it is `false`, it will instead execute the code after `else:`. Make sure to have the correct indentation!\n",
    "\n",
    "\n",
    "Note the symbol `==`. This is different from the `=` we have used before. A double equal asks whether two expressions have exactly the same value. Running `x=5` **assigns** the value `5` to the variable `x`; running `x==5` **checks** whether the value of `x` is equal to `5`.\n",
    "\n",
    "We can use other comparatives, such as **less than** (`<`), **greater than** (`>`), **less than or equal to** (`<=`) or **greater than or equal to** (`>=`) to check if a number is positive or negative."
   ]
  },
  {
   "cell_type": "code",
   "execution_count": 72,
   "metadata": {},
   "outputs": [
    {
     "name": "stdout",
     "output_type": "stream",
     "text": [
      "Negative\n"
     ]
    }
   ],
   "source": [
    "x = -1\n",
    "if x<0:\n",
    "    print(\"Negative\")\n",
    "else:\n",
    "    print(\"Positive\")"
   ]
  },
  {
   "cell_type": "markdown",
   "metadata": {},
   "source": [
    "Now we are ready to rewrite `babylonianRoot`; this time the function should only take one argument, `s`. We will start the `for` loop with a large number of iterations but check whether the difference is zero at every step, and stop when it is."
   ]
  },
  {
   "cell_type": "code",
   "execution_count": 73,
   "metadata": {},
   "outputs": [],
   "source": [
    "def babylonianRoot(s):\n",
    "    x=s\n",
    "    \n",
    "    for k in range(0,10000):\n",
    "        xNext=(x+s/x)/2\n",
    "        difference = abs(xNext-x)\n",
    "        print(\"Difference: \"+str(difference))\n",
    "        if difference==0:\n",
    "            break\n",
    "                    \n",
    "        x=xNext\n",
    "    \n",
    "    return x"
   ]
  },
  {
   "cell_type": "code",
   "execution_count": 74,
   "metadata": {},
   "outputs": [
    {
     "name": "stdout",
     "output_type": "stream",
     "text": [
      "Difference: 1.0707963267948966\n",
      "Difference: 0.27685117040267215\n",
      "Difference: 0.021362573510182337\n",
      "Difference: 0.0001287273020127433\n",
      "Difference: 4.674513442992634e-09\n",
      "Difference: 0.0\n"
     ]
    },
    {
     "data": {
      "text/plain": [
       "1.7724538509055159"
      ]
     },
     "execution_count": 74,
     "metadata": {},
     "output_type": "execute_result"
    }
   ],
   "source": [
    "babylonianRoot(math.pi)"
   ]
  },
  {
   "cell_type": "code",
   "execution_count": 75,
   "metadata": {},
   "outputs": [
    {
     "name": "stdout",
     "output_type": "stream",
     "text": [
      "Difference: 156.57963267948966\n",
      "Difference: 77.79298933863751\n",
      "Difference: 37.924575698641824\n",
      "Difference: 17.178719577527207\n",
      "Difference: 5.977884473977763\n",
      "Difference: 0.955204948835938\n",
      "Difference: 0.02570149857220727\n",
      "Difference: 1.8634232255010375e-05\n",
      "Difference: 9.798384326131782e-12\n",
      "Difference: 0.0\n"
     ]
    },
    {
     "data": {
      "text/plain": [
       "17.724538509055158"
      ]
     },
     "execution_count": 75,
     "metadata": {},
     "output_type": "execute_result"
    }
   ],
   "source": [
    "babylonianRoot(math.pi*100)"
   ]
  },
  {
   "cell_type": "markdown",
   "metadata": {},
   "source": [
    "## Beyond Mesopotamia\n",
    "We now have essentially all the basic tools for computation. Any algorithm can be implemented using the tools described above.\n",
    "\n",
    "### Solving an Equation, Babylon Style!\n",
    "Here is a challenge. Write a function that returns the solution to the equation\n",
    "$$\\cos(x)=x.$$\n",
    "**Hint:** You can borrow a powerful idea from the Babylonians."
   ]
  },
  {
   "cell_type": "code",
   "execution_count": 76,
   "metadata": {},
   "outputs": [
    {
     "name": "stdout",
     "output_type": "stream",
     "text": [
      "Difference: 0.45969769413186023\n",
      "Difference: 0.31725090997825367\n",
      "Difference: 0.2032634253486143\n",
      "Difference: 0.13919056824478648\n",
      "Difference: 0.0921115851198091\n",
      "Difference: 0.06259090927789768\n",
      "Difference: 0.04185725787394645\n",
      "Difference: 0.028315336737052776\n",
      "Difference: 0.019013719341250734\n",
      "Difference: 0.012833312478047088\n",
      "Difference: 0.008632614464209487\n",
      "Difference: 0.0058203461737618145\n",
      "Difference: 0.003918196096866389\n",
      "Difference: 0.0026404450546329006\n",
      "Difference: 0.0017781314455525\n",
      "Difference: 0.0011979980899329279\n",
      "Difference: 0.0008068823380448231\n",
      "Difference: 0.0005435725226945465\n",
      "Difference: 0.0003661356815614081\n",
      "Difference: 0.00024664305614918725\n",
      "Difference: 0.00016613734408144065\n",
      "Difference: 0.00011191410225885878\n",
      "Difference: 7.538578275367858e-05\n",
      "Difference: 5.078117961887507e-05\n",
      "Difference: 3.420662759134885e-05\n",
      "Difference: 2.3042080146362665e-05\n",
      "Difference: 1.552138409921522e-05\n",
      "Difference: 1.0455408400611432e-05\n",
      "Difference: 7.0428809902933764e-06\n",
      "Difference: 4.744172929838086e-06\n",
      "Difference: 3.195730332028468e-06\n",
      "Difference: 2.152683129752475e-06\n",
      "Difference: 1.4500729172972626e-06\n",
      "Difference: 9.767867118481988e-07\n",
      "Difference: 6.579752103164083e-07\n",
      "Difference: 4.432200477744175e-07\n",
      "Difference: 2.9855834160485983e-07\n",
      "Difference: 2.0111249676713072e-07\n",
      "Difference: 1.354717941159933e-07\n",
      "Difference: 9.125543143362336e-08\n",
      "Difference: 6.147075570783755e-08\n",
      "Difference: 4.140744069847102e-08\n",
      "Difference: 2.7892550047425857e-08\n",
      "Difference: 1.8788757327747874e-08\n",
      "Difference: 1.2656332870619735e-08\n",
      "Difference: 8.525458006225506e-09\n",
      "Difference: 5.742851083567757e-09\n",
      "Difference: 3.8684536685096305e-09\n",
      "Difference: 2.6058369906323264e-09\n",
      "Difference: 1.7553231090872146e-09\n",
      "Difference: 1.1824067280841177e-09\n",
      "Difference: 7.964834347617966e-10\n",
      "Difference: 5.3652082776523e-10\n",
      "Difference: 3.6140690440333856e-10\n",
      "Difference: 2.434480395052674e-10\n",
      "Difference: 1.639894886551474e-10\n",
      "Difference: 1.1046530357106121e-10\n",
      "Difference: 7.441081084635925e-11\n",
      "Difference: 5.012401604886918e-11\n",
      "Difference: 3.376410262490026e-11\n",
      "Difference: 2.2743917860168494e-11\n",
      "Difference: 1.532063365061731e-11\n",
      "Difference: 1.0320189147705605e-11\n",
      "Difference: 6.95177249099288e-12\n",
      "Difference: 4.682809695566448e-12\n",
      "Difference: 3.1543656575649948e-12\n",
      "Difference: 2.1247448245276246e-12\n",
      "Difference: 1.4311885010442893e-12\n",
      "Difference: 9.640066522820234e-13\n",
      "Difference: 6.493694471032541e-13\n",
      "Difference: 4.374278717023117e-13\n",
      "Difference: 2.9465319073551655e-13\n",
      "Difference: 1.98507876802978e-13\n",
      "Difference: 1.3378187446733136e-13\n",
      "Difference: 9.015010959956271e-14\n",
      "Difference: 6.072919944699606e-14\n",
      "Difference: 4.0967229608668276e-14\n",
      "Difference: 2.7644553313166398e-14\n",
      "Difference: 1.865174681370263e-14\n",
      "Difference: 1.2545520178264269e-14\n",
      "Difference: 8.43769498715119e-15\n",
      "Difference: 5.662137425588298e-15\n",
      "Difference: 3.774758283725532e-15\n",
      "Difference: 2.55351295663786e-15\n",
      "Difference: 1.7763568394002505e-15\n",
      "Difference: 1.2212453270876722e-15\n",
      "Difference: 7.771561172376096e-16\n",
      "Difference: 5.551115123125783e-16\n",
      "Difference: 4.440892098500626e-16\n",
      "Difference: 3.3306690738754696e-16\n",
      "Difference: 2.220446049250313e-16\n",
      "Difference: 1.1102230246251565e-16\n",
      "Difference: 0.0\n"
     ]
    },
    {
     "data": {
      "text/plain": [
       "0.7390851332151607"
      ]
     },
     "execution_count": 76,
     "metadata": {},
     "output_type": "execute_result"
    }
   ],
   "source": [
    "def cosEquation():\n",
    "    x=1\n",
    "    for k in range(0,1000):\n",
    "        xNext=math.cos(x)\n",
    "        difference=abs(xNext-x)\n",
    "        print(\"Difference: \"+str(difference))\n",
    "        if difference==0:\n",
    "            break\n",
    "                    \n",
    "        x=xNext\n",
    "        \n",
    "    return x\n",
    "\n",
    "cosEquation()"
   ]
  },
  {
   "cell_type": "markdown",
   "metadata": {},
   "source": [
    "If that was too easy for you, try solving this instead:$$\\sin(x)=x.$$ What goes wrong here?"
   ]
  },
  {
   "cell_type": "code",
   "execution_count": 77,
   "metadata": {},
   "outputs": [
    {
     "name": "stdout",
     "output_type": "stream",
     "text": [
      "Difference: 0.1585290151921035\n",
      "Difference: 0.0958468431423386\n",
      "Difference: 0.06719366430481766\n",
      "Difference: 0.05085864531158113\n",
      "Difference: 0.04039083547572819\n",
      "Difference: 0.03316460581780134\n",
      "Difference: 0.027909315252787947\n",
      "Difference: 0.023936399234286365\n",
      "Difference: 0.020841321006209\n",
      "Difference: 0.01837145672453444\n",
      "Difference: 0.016361305150829897\n",
      "Difference: 0.014698160121159487\n",
      "Difference: 0.013302772267611895\n",
      "Difference: 0.012117896014141871\n",
      "Difference: 0.011101217995234114\n",
      "Difference: 0.010220833892308212\n",
      "Difference: 0.00945226624881118\n",
      "Difference: 0.008776445784923759\n",
      "Difference: 0.008178312954981615\n",
      "Difference: 0.007645829144631133\n",
      "Difference: 0.007169264634530492\n",
      "Difference: 0.006740677392646333\n",
      "Difference: 0.0063535258656442495\n",
      "Difference: 0.00600237743008758\n",
      "Difference: 0.005682686165926709\n",
      "Difference: 0.005390621559018149\n",
      "Difference: 0.005122935092559622\n",
      "Difference: 0.004876855353865672\n",
      "Difference: 0.0046500048321899135\n",
      "Difference: 0.004440333380455186\n",
      "Difference: 0.00424606459701149\n",
      "Difference: 0.004065652310787815\n",
      "Difference: 0.003897745030664812\n",
      "Difference: 0.0037411567199779894\n",
      "Difference: 0.0035948426297957026\n",
      "Difference: 0.0034578792049484997\n",
      "Difference: 0.0033294472894279115\n",
      "Difference: 0.0032088180203581063\n",
      "Difference: 0.0030953409250011332\n",
      "Difference: 0.0029884338324425164\n",
      "Difference: 0.0028875742875223986\n",
      "Difference: 0.002792292214259584\n",
      "Difference: 0.0027021636232215096\n",
      "Difference: 0.002616805194844307\n",
      "Difference: 0.0025358696007433124\n",
      "Difference: 0.0024590414492068613\n",
      "Difference: 0.0023860337605800253\n",
      "Difference: 0.0023165848940915057\n",
      "Difference: 0.0022504558606001035\n",
      "Difference: 0.002187427966324096\n",
      "Difference: 0.0021273007413256384\n",
      "Difference: 0.0020698901137141956\n",
      "Difference: 0.0020150267964966495\n",
      "Difference: 0.001962554858962684\n",
      "Difference: 0.001912330458638145\n",
      "Difference: 0.001864220713310799\n",
      "Difference: 0.0018181026955508273\n",
      "Difference: 0.0017738625346109815\n",
      "Difference: 0.001731394612671966\n",
      "Difference: 0.0016906008441659182\n",
      "Difference: 0.0016513900284132743\n",
      "Difference: 0.001613677267089858\n",
      "Difference: 0.0015773834391385466\n",
      "Difference: 0.0015424347266793093\n",
      "Difference: 0.0015087621862802936\n",
      "Difference: 0.00147630136064969\n",
      "Difference: 0.001444991926408512\n",
      "Difference: 0.0014147773741274017\n",
      "Difference: 0.0013856047172600972\n",
      "Difference: 0.0013574242270014414\n",
      "Difference: 0.0013301891904383412\n",
      "Difference: 0.0013038556896619868\n",
      "Difference: 0.0012783823997703503\n",
      "Difference: 0.0012537304039195174\n",
      "Difference: 0.0012298630237832786\n",
      "Difference: 0.0012067456639565655\n",
      "Difference: 0.001184345668995751\n",
      "Difference: 0.0011626321919239735\n",
      "Difference: 0.0011415760731535163\n",
      "Difference: 0.001121149728883053\n",
      "Difference: 0.001101327048123657\n",
      "Difference: 0.0010820832975924899\n",
      "Difference: 0.0010633950337876341\n",
      "Difference: 0.0010452400216254265\n",
      "Difference: 0.00102759715908049\n",
      "Difference: 0.0010104464073236175\n",
      "Difference: 0.0009937687258984862\n",
      "Difference: 0.0009775460125230062\n",
      "Difference: 0.0009617610471377436\n",
      "Difference: 0.0009463974398594144\n",
      "Difference: 0.000931439582528254\n",
      "Difference: 0.0009168726035651276\n",
      "Difference: 0.0009026823258807271\n",
      "Difference: 0.0008888552276003492\n",
      "Difference: 0.0008753784053894542\n",
      "Difference: 0.0008622395401830796\n",
      "Difference: 0.0008494268651385306\n",
      "Difference: 0.0008369291356472297\n",
      "Difference: 0.0008247356012535956\n",
      "Difference: 0.0008128359793430906\n",
      "Difference: 0.0008012204304710391\n",
      "Difference: 0.000789879535216309\n",
      "Difference: 0.0007788042724509447\n",
      "Difference: 0.0007679859989274951\n",
      "Difference: 0.0007574164300920838\n",
      "Difference: 0.0007470876220395661\n",
      "Difference: 0.0007369919545322234\n",
      "Difference: 0.000727122115011164\n",
      "Difference: 0.0007174710835331222\n",
      "Difference: 0.0007080321185722049\n",
      "Difference: 0.0006987987436289922\n",
      "Difference: 0.0006897647345951441\n",
      "Difference: 0.0006809241078239159\n",
      "Difference: 0.0006722711088623656\n",
      "Difference: 0.0006638002018023725\n",
      "Difference: 0.0006555060592122186\n",
      "Difference: 0.0006473835526119576\n",
      "Difference: 0.0006394277434594031\n",
      "Difference: 0.0006316338746151784\n",
      "Difference: 0.0006239973622574613\n",
      "Difference: 0.0006165137882197247\n",
      "Difference: 0.0006091788927258535\n",
      "Difference: 0.0006019885674989622\n",
      "Difference: 0.0005949388492222374\n",
      "Difference: 0.0005880259133307086\n",
      "Difference: 0.0005812460681152709\n",
      "Difference: 0.00057459574912061\n",
      "Difference: 0.0005680715138203785\n",
      "Difference: 0.0005616700365538851\n",
      "Difference: 0.0005553881037096142\n",
      "Difference: 0.0005492226091417252\n",
      "Difference: 0.0005431705498066819\n",
      "Difference: 0.0005372290216077713\n",
      "Difference: 0.0005313952154363255\n",
      "Difference: 0.0005256664133989619\n",
      "Difference: 0.000520039985220544\n",
      "Difference: 0.0005145133848139805\n",
      "Difference: 0.0005090841470073992\n",
      "Difference: 0.0005037498844210619\n",
      "Difference: 0.0004985082844854993\n",
      "Difference: 0.00049335710659415\n",
      "Difference: 0.0004882941793830642\n",
      "Difference: 0.00048331739813159413\n",
      "Difference: 0.0004784247222774929\n",
      "Difference: 0.00047361417304089826\n",
      "Difference: 0.0004688838311517618\n",
      "Difference: 0.0004642318346754215\n",
      "Difference: 0.00045965637693143324\n",
      "Difference: 0.00045515570450122\n",
      "Difference: 0.0004507281153201814\n",
      "Difference: 0.0004463719568499058\n",
      "Difference: 0.000442085624327071\n",
      "Difference: 0.00043786755908481467\n",
      "Difference: 0.00043371624694363287\n",
      "Difference: 0.0004296302166682253\n",
      "Difference: 0.0004256080384870964\n",
      "Difference: 0.0004216483226722745\n",
      "Difference: 0.00041774971817623574\n",
      "Difference: 0.0004139109113232009\n",
      "Difference: 0.0004101306245526126\n",
      "Difference: 0.00040640761521212876\n",
      "Difference: 0.00040274067439824424\n",
      "Difference: 0.00039912862584190467\n",
      "Difference: 0.00039557032483747423\n",
      "Difference: 0.0003920646572132258\n",
      "Difference: 0.0003886105383409111\n",
      "Difference: 0.00038520691218349445\n",
      "Difference: 0.00038185275037866395\n",
      "Difference: 0.0003785470513569811\n",
      "Difference: 0.0003752888394931708\n",
      "Difference: 0.00037207716428891424\n",
      "Difference: 0.0003689110995858391\n",
      "Difference: 0.0003657897428077095\n",
      "Difference: 0.00036271221423003763\n",
      "Difference: 0.00035967765627670234\n",
      "Difference: 0.00035668523284157483\n",
      "Difference: 0.000353734128634986\n",
      "Difference: 0.0003508235485532585\n",
      "Difference: 0.00034795271707097064\n",
      "Difference: 0.00034512087765442567\n",
      "Difference: 0.00034232729219621505\n",
      "Difference: 0.0003395712404690443\n",
      "Difference: 0.00033685201959907096\n",
      "Difference: 0.0003341689435572559\n",
      "Difference: 0.0003315213426682284\n",
      "Difference: 0.0003289085631361932\n",
      "Difference: 0.0003263299665866304\n",
      "Difference: 0.0003237849296240519\n",
      "Difference: 0.00032127284340426054\n",
      "Difference: 0.0003187931132211108\n",
      "Difference: 0.00031634515810720354\n",
      "Difference: 0.00031392841044761144\n",
      "Difference: 0.0003115423156065805\n",
      "Difference: 0.00030918633156641617\n",
      "Difference: 0.0003068599285781931\n",
      "Difference: 0.00030456258882383125\n",
      "Difference: 0.00030229380608919054\n",
      "Difference: 0.0003000530854476158\n",
      "Difference: 0.0002978399429536954\n",
      "Difference: 0.00029565390534674885\n",
      "Difference: 0.00029349450976376423\n",
      "Difference: 0.0002913613034614543\n",
      "Difference: 0.00028925384354692996\n",
      "Difference: 0.000287171696716923\n",
      "Difference: 0.00028511443900509914\n",
      "Difference: 0.00028308165553718456\n",
      "Difference: 0.0002810729402936696\n",
      "Difference: 0.00027908789587978433\n",
      "Difference: 0.00027712613330252434\n",
      "Difference: 0.0002751872717544762\n",
      "Difference: 0.0002732709384041243\n",
      "Difference: 0.00027137676819251333\n",
      "Difference: 0.00026950440363607275\n",
      "Difference: 0.00026765349463524213\n",
      "Difference: 0.00026582369828880015\n",
      "Difference: 0.0002640146787137171\n",
      "Difference: 0.00026222610687032244\n",
      "Difference: 0.0002604576603925379\n",
      "Difference: 0.00025870902342316204\n",
      "Difference: 0.0002569798864538314\n",
      "Difference: 0.0002552699461696867\n",
      "Difference: 0.0002535789052985349\n",
      "Difference: 0.00025190647246418896\n",
      "Difference: 0.0002502523620442204\n",
      "Difference: 0.00024861629403155616\n",
      "Difference: 0.0002469979939001138\n",
      "Difference: 0.00024539719247414216\n",
      "Difference: 0.00024381362580129518\n",
      "Difference: 0.00024224703502920275\n",
      "Difference: 0.0002406971662854973\n",
      "Difference: 0.000239163770561171\n",
      "Difference: 0.00023764660359711087\n",
      "Difference: 0.00023614542577382602\n",
      "Difference: 0.00023466000200404735\n",
      "Difference: 0.00023319010162846376\n",
      "Difference: 0.00023173549831408125\n",
      "Difference: 0.00023029596995541302\n",
      "Difference: 0.00022887129857838973\n",
      "Difference: 0.00022746127024671214\n",
      "Difference: 0.000226065674970799\n",
      "Difference: 0.00022468430661910788\n",
      "Difference: 0.0002233169628318432\n",
      "Difference: 0.00022196344493685682\n",
      "Difference: 0.0002206235578678939\n",
      "Difference: 0.0002192971100847957\n",
      "Difference: 0.0002179839134959366\n",
      "Difference: 0.00021668378338257632\n",
      "Difference: 0.00021539653832521044\n",
      "Difference: 0.00021412200013182225\n",
      "Difference: 0.00021285999376791098\n",
      "Difference: 0.00021161034728837957\n",
      "Difference: 0.00021037289177110174\n",
      "Difference: 0.00020914746125220984\n",
      "Difference: 0.0002079338926629648\n",
      "Difference: 0.00020673202576829142\n",
      "Difference: 0.00020554170310671527\n",
      "Difference: 0.00020436276993200664\n",
      "Difference: 0.00020319507415603177\n",
      "Difference: 0.00020203846629321398\n",
      "Difference: 0.0002008927994062576\n",
      "Difference: 0.00019975792905320422\n",
      "Difference: 0.0001986337132359045\n",
      "Difference: 0.00019752001234953076\n",
      "Difference: 0.00019641668913351895\n",
      "Difference: 0.00019532360862362097\n",
      "Difference: 0.00019424063810503933\n",
      "Difference: 0.0001931676470668109\n",
      "Difference: 0.00019210450715723137\n",
      "Difference: 0.00019105109214029303\n",
      "Difference: 0.00019000727785321858\n",
      "Difference: 0.00018897294216496663\n",
      "Difference: 0.0001879479649357918\n",
      "Difference: 0.0001869322279775959\n",
      "Difference: 0.00018592561501536153\n",
      "Difference: 0.0001849280116494184\n",
      "Difference: 0.00018393930531858393\n",
      "Difference: 0.00018295938526416422\n",
      "Difference: 0.00018198814249480166\n",
      "Difference: 0.00018102546975209965\n",
      "Difference: 0.0001800712614770661\n",
      "Difference: 0.00017912541377727853\n",
      "Difference: 0.000178187824394882\n",
      "Difference: 0.00017725839267518362\n",
      "Difference: 0.0001763370195360936\n",
      "Difference: 0.00017542360743812158\n",
      "Difference: 0.00017451806035520545\n",
      "Difference: 0.00017362028374598437\n",
      "Difference: 0.00017273018452593214\n",
      "Difference: 0.00017184767103994858\n",
      "Difference: 0.00017097265303558928\n",
      "Difference: 0.00017010504163697537\n",
      "Difference: 0.0001692447493191751\n",
      "Difference: 0.00016839168988315445\n",
      "Difference: 0.0001675457784313661\n",
      "Difference: 0.00016670693134372694\n",
      "Difference: 0.00016587506625424797\n",
      "Difference: 0.00016505010202812198\n",
      "Difference: 0.0001642319587392277\n",
      "Difference: 0.0001634205576482861\n",
      "Difference: 0.00016261582118126672\n",
      "Difference: 0.00016181767290851523\n",
      "Difference: 0.0001610260375240341\n",
      "Difference: 0.00016024084082545687\n",
      "Difference: 0.00015946200969427227\n",
      "Difference: 0.00015868947207658968\n",
      "Difference: 0.0001579231569641959\n",
      "Difference: 0.00015716299437606995\n",
      "Difference: 0.00015640891534030033\n",
      "Difference: 0.0001556608518763214\n",
      "Difference: 0.00015491873697758007\n",
      "Difference: 0.00015418250459448002\n",
      "Difference: 0.0001534520896177699\n",
      "Difference: 0.00015272742786220928\n",
      "Difference: 0.00015200845605058133\n",
      "Difference: 0.00015129511179805266\n",
      "Difference: 0.00015058733359679666\n",
      "Difference: 0.00014988506080103325\n",
      "Difference: 0.00014918823361222133\n",
      "Difference: 0.0001484967930646952\n",
      "Difference: 0.0001478106810115093\n",
      "Difference: 0.00014712984011057417\n",
      "Difference: 0.0001464542138110564\n",
      "Difference: 0.00014578374634013902\n",
      "Difference: 0.00014511838268987942\n",
      "Difference: 0.00014445806860452493\n",
      "Difference: 0.00014380275056788405\n",
      "Difference: 0.00014315237579111406\n",
      "Difference: 0.00014250689220059176\n",
      "Difference: 0.00014186624842618678\n",
      "Difference: 0.00014123039378960422\n",
      "Difference: 0.00014059927829310204\n",
      "Difference: 0.00013997285260826386\n",
      "Difference: 0.00013935106806514663\n",
      "Difference: 0.00013873387664151138\n",
      "Difference: 0.00013812123095237328\n",
      "Difference: 0.0001375130842396488\n",
      "Difference: 0.00013690939036206662\n",
      "Difference: 0.000136310103785231\n",
      "Difference: 0.00013571517957190748\n",
      "Difference: 0.00013512457337247485\n",
      "Difference: 0.0001345382414155577\n",
      "Difference: 0.00013395614049882543\n",
      "Difference: 0.00013337822797997168\n",
      "Difference: 0.0001328044617678742\n",
      "Difference: 0.00013223480031393509\n",
      "Difference: 0.00013166920260349047\n",
      "Difference: 0.0001311076281475254\n",
      "Difference: 0.00013055003697436118\n",
      "Difference: 0.00012999638962170323\n",
      "Difference: 0.00012944664712867537\n",
      "Difference: 0.00012890077102803432\n",
      "Difference: 0.00012835872333857856\n",
      "Difference: 0.00012782046655764046\n",
      "Difference: 0.0001272859636537449\n",
      "Difference: 0.00012675517805940673\n",
      "Difference: 0.00012622807366401145\n",
      "Difference: 0.00012570461480686246\n",
      "Difference: 0.0001251847662703809\n",
      "Difference: 0.00012466849327334717\n",
      "Difference: 0.00012415576146432294\n",
      "Difference: 0.00012364653691521177\n",
      "Difference: 0.00012314078611481982\n",
      "Difference: 0.00012263847596270805\n",
      "Difference: 0.00012213957376296103\n",
      "Difference: 0.00012164404721823341\n",
      "Difference: 0.00012115186442378245\n",
      "Difference: 0.00012066299386165324\n",
      "Difference: 0.00012017740439498881\n",
      "Difference: 0.0001196950652623402\n",
      "Difference: 0.00011921594607228192\n",
      "Difference: 0.0001187400167978192\n",
      "Difference: 0.00011826724777119768\n",
      "Difference: 0.00011779760967857433\n",
      "Difference: 0.00011733107355493821\n",
      "Difference: 0.0001168676107789618\n",
      "Difference: 0.00011640719306812986\n",
      "Difference: 0.00011594979247377124\n",
      "Difference: 0.0001154953813762849\n",
      "Difference: 0.00011504393248042144\n",
      "Difference: 0.00011459541881062019\n",
      "Difference: 0.00011414981370644339\n",
      "Difference: 0.00011370709081810759\n",
      "Difference: 0.00011326722410208434\n",
      "Difference: 0.0001128301878166732\n",
      "Difference: 0.0001123959565178384\n",
      "Difference: 0.00011196450505496225\n",
      "Difference: 0.00011153580856673728\n",
      "Difference: 0.00011110984247705846\n",
      "Difference: 0.00011068658249110963\n",
      "Difference: 0.00011026600459139446\n",
      "Difference: 0.00010984808503387844\n",
      "Difference: 0.00010943280034417247\n",
      "Difference: 0.00010902012731384136\n",
      "Difference: 0.0001086100429967124\n",
      "Difference: 0.00010820252470525316\n",
      "Difference: 0.00010779755000703273\n",
      "Difference: 0.00010739509672116898\n",
      "Difference: 0.0001069951429149979\n",
      "Difference: 0.00010659766690054862\n",
      "Difference: 0.00010620264723135153\n",
      "Difference: 0.00010581006269903825\n",
      "Difference: 0.00010541989233020521\n",
      "Difference: 0.00010503211538319401\n",
      "Difference: 0.00010464671134498282\n",
      "Difference: 0.00010426365992810549\n",
      "Difference: 0.00010388294106765394\n",
      "Difference: 0.00010350453491823897\n",
      "Difference: 0.00010312842185113136\n",
      "Difference: 0.00010275458245133373\n",
      "Difference: 0.00010238299751476332\n",
      "Difference: 0.00010201364804544866\n",
      "Difference: 0.00010164651525276791\n",
      "Difference: 0.00010128158054877046\n",
      "Difference: 0.00010091882554547071\n",
      "Difference: 0.00010055823205226688\n",
      "Difference: 0.00010019978207333191\n",
      "Difference: 9.984345780507387e-05\n",
      "Difference: 9.948924163362405e-05\n",
      "Difference: 9.913711613240839e-05\n",
      "Difference: 9.878706405964943e-05\n",
      "Difference: 9.843906835604876e-05\n",
      "Difference: 9.809311214238614e-05\n",
      "Difference: 9.774917871721578e-05\n",
      "Difference: 9.74072515545904e-05\n",
      "Difference: 9.706731430178528e-05\n",
      "Difference: 9.672935077710554e-05\n",
      "Difference: 9.639334496772123e-05\n",
      "Difference: 9.605928102746075e-05\n",
      "Difference: 9.572714327477083e-05\n",
      "Difference: 9.539691619056545e-05\n",
      "Difference: 9.506858441618582e-05\n",
      "Difference: 9.474213275142973e-05\n",
      "Difference: 9.441754615249764e-05\n",
      "Difference: 9.409480973003592e-05\n",
      "Difference: 9.377390874723557e-05\n",
      "Difference: 9.345482861790322e-05\n",
      "Difference: 9.313755490458764e-05\n",
      "Difference: 9.282207331673398e-05\n",
      "Difference: 9.250836970883802e-05\n",
      "Difference: 9.219643007868372e-05\n",
      "Difference: 9.188624056555295e-05\n",
      "Difference: 9.157778744850464e-05\n",
      "Difference: 9.127105714461237e-05\n",
      "Difference: 9.096603620729893e-05\n",
      "Difference: 9.066271132467107e-05\n",
      "Difference: 9.036106931786803e-05\n",
      "Difference: 9.00610971394239e-05\n",
      "Difference: 8.97627818716995e-05\n",
      "Difference: 8.946611072527255e-05\n",
      "Difference: 8.917107103743882e-05\n",
      "Difference: 8.887765027060235e-05\n",
      "Difference: 8.858583601084602e-05\n",
      "Difference: 8.829561596637725e-05\n",
      "Difference: 8.800697796611245e-05\n",
      "Difference: 8.7719909958206e-05\n",
      "Difference: 8.743440000863467e-05\n",
      "Difference: 8.715043629979602e-05\n",
      "Difference: 8.686800712909282e-05\n",
      "Difference: 8.65871009076008e-05\n",
      "Difference: 8.630770615872252e-05\n",
      "Difference: 8.602981151684119e-05\n",
      "Difference: 8.575340572603007e-05\n",
      "Difference: 8.547847763870631e-05\n",
      "Difference: 8.520501621445131e-05\n",
      "Difference: 8.49330105186924e-05\n",
      "Difference: 8.466244972146764e-05\n",
      "Difference: 8.439332309620462e-05\n",
      "Difference: 8.41256200185686e-05\n",
      "Difference: 8.385932996517187e-05\n",
      "Difference: 8.359444251250514e-05\n",
      "Difference: 8.333094733573021e-05\n",
      "Difference: 8.306883420755584e-05\n",
      "Difference: 8.280809299708591e-05\n",
      "Difference: 8.25487136687647e-05\n",
      "Difference: 8.229068628119729e-05\n",
      "Difference: 8.203400098619196e-05\n",
      "Difference: 8.177864802756674e-05\n",
      "Difference: 8.152461774019182e-05\n",
      "Difference: 8.127190054893485e-05\n",
      "Difference: 8.102048696757846e-05\n",
      "Difference: 8.077036759790435e-05\n",
      "Difference: 8.052153312863852e-05\n",
      "Difference: 8.027397433446604e-05\n",
      "Difference: 8.002768207510114e-05\n",
      "Difference: 7.978264729431583e-05\n",
      "Difference: 7.953886101896845e-05\n",
      "Difference: 7.929631435812934e-05\n",
      "Difference: 7.905499850209552e-05\n",
      "Difference: 7.881490472155805e-05\n",
      "Difference: 7.85760243666167e-05\n",
      "Difference: 7.833834886601665e-05\n",
      "Difference: 7.81018697261493e-05\n",
      "Difference: 7.786657853027512e-05\n",
      "Difference: 7.763246693767711e-05\n",
      "Difference: 7.739952668278649e-05\n",
      "Difference: 7.716774957433614e-05\n",
      "Difference: 7.693712749465287e-05\n",
      "Difference: 7.670765239869981e-05\n",
      "Difference: 7.64793163134242e-05\n",
      "Difference: 7.625211133686915e-05\n",
      "Difference: 7.602602963746596e-05\n",
      "Difference: 7.580106345322912e-05\n",
      "Difference: 7.557720509100696e-05\n",
      "Difference: 7.535444692577387e-05\n",
      "Difference: 7.513278139983925e-05\n",
      "Difference: 7.491220102215368e-05\n",
      "Difference: 7.469269836761494e-05\n",
      "Difference: 7.447426607630481e-05\n",
      "Difference: 7.425689685283676e-05\n",
      "Difference: 7.40405834656066e-05\n",
      "Difference: 7.382531874620957e-05\n",
      "Difference: 7.361109558866319e-05\n",
      "Difference: 7.339790694882442e-05\n",
      "Difference: 7.318574584366799e-05\n",
      "Difference: 7.297460535070355e-05\n",
      "Difference: 7.276447860728175e-05\n",
      "Difference: 7.255535880998365e-05\n",
      "Difference: 7.234723921399622e-05\n",
      "Difference: 7.214011313251556e-05\n",
      "Difference: 7.193397393609469e-05\n",
      "Difference: 7.172881505207451e-05\n",
      "Difference: 7.1524629964001e-05\n",
      "Difference: 7.132141221098676e-05\n",
      "Difference: 7.111915538722535e-05\n",
      "Difference: 7.091785314131127e-05\n",
      "Difference: 7.071749917572645e-05\n",
      "Difference: 7.051808724631292e-05\n",
      "Difference: 7.031961116166219e-05\n",
      "Difference: 7.012206478261562e-05\n",
      "Difference: 6.992544202170936e-05\n",
      "Difference: 6.972973684263306e-05\n",
      "Difference: 6.953494325971643e-05\n",
      "Difference: 6.934105533742962e-05\n",
      "Difference: 6.914806718984201e-05\n",
      "Difference: 6.895597298010869e-05\n",
      "Difference: 6.876476691999867e-05\n",
      "Difference: 6.857444326942297e-05\n",
      "Difference: 6.838499633585182e-05\n",
      "Difference: 6.819642047396768e-05\n",
      "Difference: 6.800871008504072e-05\n",
      "Difference: 6.782185961658194e-05\n",
      "Difference: 6.763586356184348e-05\n",
      "Difference: 6.745071645927747e-05\n",
      "Difference: 6.726641289224455e-05\n",
      "Difference: 6.708294748837551e-05\n",
      "Difference: 6.690031491929371e-05\n",
      "Difference: 6.671850990006001e-05\n",
      "Difference: 6.653752718882577e-05\n",
      "Difference: 6.635736158633332e-05\n",
      "Difference: 6.617800793554118e-05\n",
      "Difference: 6.599946112119393e-05\n",
      "Difference: 6.582171606937803e-05\n",
      "Difference: 6.56447677471611e-05\n",
      "Difference: 6.54686111621755e-05\n",
      "Difference: 6.529324136220205e-05\n",
      "Difference: 6.51186534347814e-05\n",
      "Difference: 6.494484250682553e-05\n",
      "Difference: 6.477180374425684e-05\n",
      "Difference: 6.459953235159188e-05\n",
      "Difference: 6.442802357156663e-05\n",
      "Difference: 6.425727268478953e-05\n",
      "Difference: 6.408727500938072e-05\n",
      "Difference: 6.391802590055562e-05\n",
      "Difference: 6.374952075033358e-05\n",
      "Difference: 6.358175498710761e-05\n",
      "Difference: 6.341472407538074e-05\n",
      "Difference: 6.324842351533577e-05\n",
      "Difference: 6.308284884255777e-05\n",
      "Difference: 6.291799562761768e-05\n",
      "Difference: 6.275385947585033e-05\n",
      "Difference: 6.259043602691028e-05\n",
      "Difference: 6.242772095450821e-05\n",
      "Difference: 6.226570996605008e-05\n",
      "Difference: 6.21043988023734e-05\n",
      "Difference: 6.194378323735872e-05\n",
      "Difference: 6.178385907766593e-05\n",
      "Difference: 6.162462216238729e-05\n",
      "Difference: 6.146606836281154e-05\n",
      "Difference: 6.130819358199369e-05\n",
      "Difference: 6.115099375461619e-05\n",
      "Difference: 6.0994464846544916e-05\n",
      "Difference: 6.083860285463483e-05\n",
      "Difference: 6.068340380639692e-05\n",
      "Difference: 6.0528863759706786e-05\n",
      "Difference: 6.0374978802554824e-05\n",
      "Difference: 6.0221745052740916e-05\n",
      "Difference: 6.006915865759688e-05\n",
      "Difference: 5.99172157937089e-05\n",
      "Difference: 5.976591266666775e-05\n",
      "Difference: 5.9615245510791226e-05\n",
      "Difference: 5.9465210588832695e-05\n",
      "Difference: 5.931580419177296e-05\n",
      "Difference: 5.916702263850104e-05\n",
      "Difference: 5.901886227557829e-05\n",
      "Difference: 5.887131947703017e-05\n",
      "Difference: 5.8724390644027125e-05\n",
      "Difference: 5.857807220466249e-05\n",
      "Difference: 5.8432360613716594e-05\n",
      "Difference: 5.828725235240695e-05\n",
      "Difference: 5.814274392815233e-05\n",
      "Difference: 5.79988318743091e-05\n",
      "Difference: 5.785551274997691e-05\n",
      "Difference: 5.7712783139735047e-05\n",
      "Difference: 5.757063965342035e-05\n",
      "Difference: 5.742907892590521e-05\n",
      "Difference: 5.728809761684772e-05\n",
      "Difference: 5.71476924105252e-05\n",
      "Difference: 5.700786001555658e-05\n",
      "Difference: 5.68685971646804e-05\n",
      "Difference: 5.672990061460215e-05\n",
      "Difference: 5.6591767145716676e-05\n",
      "Difference: 5.6454193561927823e-05\n",
      "Difference: 5.631717669042635e-05\n",
      "Difference: 5.6180713381481784e-05\n",
      "Difference: 5.6044800508248116e-05\n",
      "Difference: 5.5909434966583405e-05\n",
      "Difference: 5.577461367478609e-05\n",
      "Difference: 5.564033357342846e-05\n",
      "Difference: 5.5506591625203994e-05\n",
      "Difference: 5.537338481464982e-05\n",
      "Difference: 5.5240710148035665e-05\n",
      "Difference: 5.5108564653086334e-05\n",
      "Difference: 5.4976945378884534e-05\n",
      "Difference: 5.4845849395621094e-05\n",
      "Difference: 5.47152737944423e-05\n",
      "Difference: 5.458521568724173e-05\n",
      "Difference: 5.44556722065076e-05\n",
      "Difference: 5.43266405051146e-05\n",
      "Difference: 5.4198117756185105e-05\n",
      "Difference: 5.407010115283939e-05\n",
      "Difference: 5.394258790815398e-05\n",
      "Difference: 5.381557525482861e-05\n",
      "Difference: 5.3689060445130665e-05\n",
      "Difference: 5.356304075071483e-05\n",
      "Difference: 5.3437513462401e-05\n",
      "Difference: 5.3312475890035516e-05\n",
      "Difference: 5.318792536238015e-05\n",
      "Difference: 5.3063859226876176e-05\n",
      "Difference: 5.294027484949171e-05\n",
      "Difference: 5.281716961462457e-05\n",
      "Difference: 5.2694540924907995e-05\n",
      "Difference: 5.2572386201002463e-05\n",
      "Difference: 5.2450702881567945e-05\n",
      "Difference: 5.232948842295859e-05\n",
      "Difference: 5.220874029923661e-05\n",
      "Difference: 5.208845600185308e-05\n",
      "Difference: 5.196863303963406e-05\n",
      "Difference: 5.18492689386002e-05\n",
      "Difference: 5.173036124174468e-05\n",
      "Difference: 5.161190750903322e-05\n",
      "Difference: 5.149390531709874e-05\n",
      "Difference: 5.13763522592553e-05\n",
      "Difference: 5.125924594524822e-05\n",
      "Difference: 5.114258400117089e-05\n",
      "Difference: 5.102636406929817e-05\n",
      "Difference: 5.0910583807989296e-05\n",
      "Difference: 5.07952408915352e-05\n",
      "Difference: 5.0680333009978096e-05\n",
      "Difference: 5.056585786908374e-05\n",
      "Difference: 5.045181319011938e-05\n",
      "Difference: 5.0338196709770466e-05\n",
      "Difference: 5.022500618000192e-05\n",
      "Difference: 5.011223936793319e-05\n",
      "Difference: 4.999989405571337e-05\n",
      "Difference: 4.98879680403963e-05\n",
      "Difference: 4.9776459133815676e-05\n",
      "Difference: 4.9665365162473996e-05\n",
      "Difference: 4.955468396741769e-05\n",
      "Difference: 4.9444413404126086e-05\n",
      "Difference: 4.933455134235876e-05\n",
      "Difference: 4.922509566608613e-05\n",
      "Difference: 4.91160442733507e-05\n",
      "Difference: 4.9007395076156035e-05\n",
      "Difference: 4.889914600034184e-05\n",
      "Difference: 4.879129498550072e-05\n",
      "Difference: 4.8683839984825505e-05\n",
      "Difference: 4.8576778965067624e-05\n",
      "Difference: 4.847010990631506e-05\n",
      "Difference: 4.8363830802020114e-05\n",
      "Difference: 4.8257939658791216e-05\n",
      "Difference: 4.815243449630968e-05\n",
      "Difference: 4.804731334728807e-05\n",
      "Difference: 4.794257425724813e-05\n",
      "Difference: 4.783821528454857e-05\n",
      "Difference: 4.773423450016301e-05\n",
      "Difference: 4.7630629987666095e-05\n",
      "Difference: 4.7527399843122486e-05\n",
      "Difference: 4.742454217490644e-05\n",
      "Difference: 4.7322055103729554e-05\n",
      "Difference: 4.721993676244651e-05\n",
      "Difference: 4.711818529598566e-05\n",
      "Difference: 4.701679886129351e-05\n",
      "Difference: 4.69157756271682e-05\n",
      "Difference: 4.6815113774217876e-05\n",
      "Difference: 4.671481149476353e-05\n",
      "Difference: 4.661486699272799e-05\n",
      "Difference: 4.6515278483566513e-05\n",
      "Difference: 4.6416044194141914e-05\n",
      "Difference: 4.631716236266903e-05\n",
      "Difference: 4.621863123863146e-05\n",
      "Difference: 4.612044908264279e-05\n",
      "Difference: 4.602261416643272e-05\n",
      "Difference: 4.592512477269439e-05\n",
      "Difference: 4.582797919504278e-05\n",
      "Difference: 4.573117573790364e-05\n",
      "Difference: 4.5634712716458026e-05\n",
      "Difference: 4.553858845650349e-05\n",
      "Difference: 4.5442801294454105e-05\n",
      "Difference: 4.5347349577201657e-05\n",
      "Difference: 4.5252231662032405e-05\n",
      "Difference: 4.515744591658544e-05\n",
      "Difference: 4.506299071872777e-05\n",
      "Difference: 4.4968864456512714e-05\n",
      "Difference: 4.4875065528096614e-05\n",
      "Difference: 4.478159234162782e-05\n",
      "Difference: 4.468844331521893e-05\n",
      "Difference: 4.459561687684965e-05\n",
      "Difference: 4.4503111464255785e-05\n",
      "Difference: 4.441092552494308e-05\n",
      "Difference: 4.4319057516006843e-05\n",
      "Difference: 4.4227505904131936e-05\n",
      "Difference: 4.41362691655095e-05\n",
      "Difference: 4.404534578573982e-05\n",
      "Difference: 4.3954734259790684e-05\n",
      "Difference: 4.3864433091900246e-05\n",
      "Difference: 4.377444079552151e-05\n",
      "Difference: 4.3684755893266813e-05\n",
      "Difference: 4.3595376916796824e-05\n",
      "Difference: 4.350630240680664e-05\n",
      "Difference: 4.341753091291478e-05\n",
      "Difference: 4.332906099359379e-05\n",
      "Difference: 4.324089121617025e-05\n",
      "Difference: 4.3153020156672106e-05\n",
      "Difference: 4.306544639982868e-05\n",
      "Difference: 4.297816853894576e-05\n",
      "Difference: 4.28911851759195e-05\n",
      "Difference: 4.280449492111149e-05\n",
      "Difference: 4.271809639327939e-05\n",
      "Difference: 4.263198821957692e-05\n",
      "Difference: 4.254616903544284e-05\n",
      "Difference: 4.246063748453155e-05\n",
      "Difference: 4.2375392218713115e-05\n",
      "Difference: 4.229043189792059e-05\n",
      "Difference: 4.220575519019165e-05\n",
      "Difference: 4.2121360771529837e-05\n",
      "Difference: 4.203724732589065e-05\n",
      "Difference: 4.1953413545098295e-05\n",
      "Difference: 4.186985812880406e-05\n",
      "Difference: 4.178657978443079e-05\n",
      "Difference: 4.1703577227089617e-05\n",
      "Difference: 4.16208491795661e-05\n",
      "Difference: 4.1538394372223064e-05\n",
      "Difference: 4.145621154298673e-05\n",
      "Difference: 4.137429943724957e-05\n",
      "Difference: 4.129265680785643e-05\n",
      "Difference: 4.12112824149935e-05\n",
      "Difference: 4.1130175026216076e-05\n",
      "Difference: 4.1049333416323663e-05\n",
      "Difference: 4.096875636735997e-05\n",
      "Difference: 4.088844266850189e-05\n",
      "Difference: 4.080839111607337e-05\n",
      "Difference: 4.0728600513455226e-05\n",
      "Difference: 4.064906967103654e-05\n",
      "Difference: 4.056979740617306e-05\n",
      "Difference: 4.049078254315247e-05\n",
      "Difference: 4.041202391310422e-05\n",
      "Difference: 4.033352035397869e-05\n",
      "Difference: 4.025527071051249e-05\n",
      "Difference: 4.017727383413827e-05\n",
      "Difference: 4.009952858298471e-05\n",
      "Difference: 4.002203382177938e-05\n",
      "Difference: 3.994478842184873e-05\n",
      "Difference: 3.9867791261048724e-05\n",
      "Difference: 3.979104122370236e-05\n",
      "Difference: 3.971453720059276e-05\n",
      "Difference: 3.963827808889375e-05\n",
      "Difference: 3.956226279211439e-05\n",
      "Difference: 3.9486490220085046e-05\n",
      "Difference: 3.941095928888805e-05\n",
      "Difference: 3.93356689208299e-05\n",
      "Difference: 3.926061804437192e-05\n",
      "Difference: 3.918580559412327e-05\n",
      "Difference: 3.911123051077853e-05\n",
      "Difference: 3.9036891741062174e-05\n",
      "Difference: 3.896278823771471e-05\n",
      "Difference: 3.8888918959444074e-05\n",
      "Difference: 3.8815282870849344e-05\n",
      "Difference: 3.874187894244152e-05\n",
      "Difference: 3.866870615053947e-05\n",
      "Difference: 3.8595763477276834e-05\n",
      "Difference: 3.852304991054656e-05\n",
      "Difference: 3.8450564443938406e-05\n",
      "Difference: 3.8378306076745916e-05\n",
      "Difference: 3.830627381388313e-05\n",
      "Difference: 3.8234466665870714e-05\n",
      "Difference: 3.8162883648787393e-05\n",
      "Difference: 3.809152378423525e-05\n",
      "Difference: 3.8020386099305026e-05\n",
      "Difference: 3.794946962654144e-05\n",
      "Difference: 3.787877340388074e-05\n",
      "Difference: 3.780829647464373e-05\n",
      "Difference: 3.773803788749419e-05\n",
      "Difference: 3.76679966963972e-05\n",
      "Difference: 3.75981719605567e-05\n",
      "Difference: 3.752856274444327e-05\n",
      "Difference: 3.745916811769695e-05\n",
      "Difference: 3.738998715511338e-05\n",
      "Difference: 3.7321018936622985e-05\n",
      "Difference: 3.725226254724934e-05\n",
      "Difference: 3.7183717077053646e-05\n",
      "Difference: 3.711538162112088e-05\n",
      "Difference: 3.704725527953895e-05\n",
      "Difference: 3.697933715732932e-05\n",
      "Difference: 3.6911626364440064e-05\n",
      "Difference: 3.684412201570425e-05\n",
      "Difference: 3.677682323081216e-05\n",
      "Difference: 3.6709729134276614e-05\n",
      "Difference: 3.6642838855391324e-05\n",
      "Difference: 3.657615152821009e-05\n",
      "Difference: 3.650966629151209e-05\n",
      "Difference: 3.644338228878108e-05\n",
      "Difference: 3.637729866814987e-05\n",
      "Difference: 3.631141458237952e-05\n",
      "Difference: 3.624572918885238e-05\n",
      "Difference: 3.618024164949579e-05\n",
      "Difference: 3.6114951130795936e-05\n",
      "Difference: 3.604985680374234e-05\n",
      "Difference: 3.5984957843807064e-05\n",
      "Difference: 3.592025343090305e-05\n",
      "Difference: 3.5855742749377195e-05\n",
      "Difference: 3.5791424987961784e-05\n",
      "Difference: 3.57272993397606e-05\n",
      "Difference: 3.5663365002193415e-05\n",
      "Difference: 3.559962117700988e-05\n",
      "Difference: 3.553606707022705e-05\n",
      "Difference: 3.5472701892101666e-05\n",
      "Difference: 3.5409524857130115e-05\n",
      "Difference: 3.5346535183992944e-05\n",
      "Difference: 3.5283732095547915e-05\n",
      "Difference: 3.522111481877449e-05\n",
      "Difference: 3.5158682584787715e-05\n",
      "Difference: 3.5096434628768824e-05\n",
      "Difference: 3.5034370189979125e-05\n",
      "Difference: 3.497248851170448e-05\n",
      "Difference: 3.491078884122062e-05\n",
      "Difference: 3.484927042982089e-05\n",
      "Difference: 3.478793253273299e-05\n",
      "Difference: 3.47267744091051e-05\n",
      "Difference: 3.4665795322019743e-05\n",
      "Difference: 3.460499453841054e-05\n",
      "Difference: 3.4544371329083e-05\n",
      "Difference: 3.448392496866598e-05\n",
      "Difference: 3.4423654735604714e-05\n",
      "Difference: 3.4363559912105324e-05\n",
      "Difference: 3.4303639784155626e-05\n",
      "Difference: 3.4243893641462686e-05\n",
      "Difference: 3.4184320777432e-05\n",
      "Difference: 3.4124920489188304e-05\n",
      "Difference: 3.406569207748539e-05\n",
      "Difference: 3.400663484672689e-05\n",
      "Difference: 3.394774810493856e-05\n",
      "Difference: 3.388903116373354e-05\n",
      "Difference: 3.383048333829852e-05\n",
      "Difference: 3.377210394735902e-05\n",
      "Difference: 3.3713892313172455e-05\n",
      "Difference: 3.365584776150038e-05\n",
      "Difference: 3.3597969621587676e-05\n",
      "Difference: 3.354025722612092e-05\n",
      "Difference: 3.3482709911249187e-05\n",
      "Difference: 3.342532701651468e-05\n",
      "Difference: 3.3368107884859666e-05\n",
      "Difference: 3.331105186261257e-05\n",
      "Difference: 3.325415829943251e-05\n",
      "Difference: 3.319742654832314e-05\n",
      "Difference: 3.314085596559796e-05\n",
      "Difference: 3.308444591084564e-05\n",
      "Difference: 3.302819574693694e-05\n",
      "Difference: 3.2972104839983085e-05\n",
      "Difference: 3.291617255932883e-05\n",
      "Difference: 3.286039827753162e-05\n",
      "Difference: 3.280478137032e-05\n",
      "Difference: 3.274932121660051e-05\n",
      "Difference: 3.26940171984369e-05\n",
      "Difference: 3.263886870100152e-05\n",
      "Difference: 3.2583875112596195e-05\n",
      "Difference: 3.252903582459665e-05\n",
      "Difference: 3.247435023146644e-05\n",
      "Difference: 3.2419817730708345e-05\n",
      "Difference: 3.236543772285744e-05\n",
      "Difference: 3.2311209611488034e-05\n",
      "Difference: 3.225713280313042e-05\n",
      "Difference: 3.220320670733329e-05\n",
      "Difference: 3.21494307365805e-05\n",
      "Difference: 3.209580430630493e-05\n",
      "Difference: 3.2042326834860746e-05\n",
      "Difference: 3.1988997743509495e-05\n",
      "Difference: 3.193581645640625e-05\n",
      "Difference: 3.188278240056491e-05\n",
      "Difference: 3.182989500587208e-05\n",
      "Difference: 3.17771537050246e-05\n",
      "Difference: 3.172455793355039e-05\n",
      "Difference: 3.167210712979457e-05\n",
      "Difference: 3.1619800734850045e-05\n",
      "Difference: 3.1567638192619984e-05\n",
      "Difference: 3.151561894972066e-05\n",
      "Difference: 3.146374245552308e-05\n",
      "Difference: 3.141200816211831e-05\n",
      "Difference: 3.136041552428276e-05\n",
      "Difference: 3.130896399949207e-05\n",
      "Difference: 3.125765304789335e-05\n",
      "Difference: 3.120648213227051e-05\n",
      "Difference: 3.115545071805115e-05\n",
      "Difference: 3.1104558273299665e-05\n",
      "Difference: 3.105380426866172e-05\n",
      "Difference: 3.1003188177392005e-05\n",
      "Difference: 3.095270947529871e-05\n",
      "Difference: 3.090236764077825e-05\n",
      "Difference: 3.0852162154745844e-05\n",
      "Difference: 3.080209250065635e-05\n",
      "Difference: 3.075215816447652e-05\n",
      "Difference: 3.070235863467108e-05\n",
      "Difference: 3.06526934021889e-05\n",
      "Difference: 3.06031619604491e-05\n",
      "Difference: 3.055376380532021e-05\n",
      "Difference: 3.0504498435127148e-05\n",
      "Difference: 3.0455365350595676e-05\n",
      "Difference: 3.0406364054887114e-05\n",
      "Difference: 3.0357494053535883e-05\n",
      "Difference: 3.03087548544842e-05\n",
      "Difference: 3.0260145968019625e-05\n",
      "Difference: 3.0211666906802825e-05\n",
      "Difference: 3.0163317185825933e-05\n",
      "Difference: 3.011509632240561e-05\n",
      "Difference: 3.0067003836196926e-05\n",
      "Difference: 3.001903924911703e-05\n",
      "Difference: 2.9971202085393722e-05\n",
      "Difference: 2.992349187153076e-05\n",
      "Difference: 2.9875908136273166e-05\n",
      "Difference: 2.9828450410634977e-05\n",
      "Difference: 2.9781118227850678e-05\n",
      "Difference: 2.973391112338214e-05\n",
      "Difference: 2.968682863489086e-05\n",
      "Difference: 2.963987030223797e-05\n",
      "Difference: 2.9593035667470347e-05\n",
      "Difference: 2.9546324274799807e-05\n",
      "Difference: 2.94997356706031e-05\n",
      "Difference: 2.9453269403394156e-05\n",
      "Difference: 2.9406925023817143e-05\n",
      "Difference: 2.9360702084646473e-05\n",
      "Difference: 2.931460014075904e-05\n",
      "Difference: 2.9268618749120345e-05\n",
      "Difference: 2.9222757468798377e-05\n",
      "Difference: 2.9177015860908095e-05\n",
      "Difference: 2.913139348864613e-05\n",
      "Difference: 2.908588991724914e-05\n",
      "Difference: 2.9040504713979953e-05\n",
      "Difference: 2.899523744814836e-05\n",
      "Difference: 2.8950087691055615e-05\n",
      "Difference: 2.8905055016015258e-05\n",
      "Difference: 2.8860138998332285e-05\n",
      "Difference: 2.8815339215289282e-05\n",
      "Difference: 2.8770655246132537e-05\n",
      "Difference: 2.872608667205817e-05\n",
      "Difference: 2.868163307623295e-05\n",
      "Difference: 2.863729404373183e-05\n",
      "Difference: 2.8593069161558793e-05\n",
      "Difference: 2.854895801864682e-05\n",
      "Difference: 2.8504960205809338e-05\n",
      "Difference: 2.846107531576797e-05\n",
      "Difference: 2.841730294310396e-05\n",
      "Difference: 2.8373642684285938e-05\n",
      "Difference: 2.833009413763521e-05\n",
      "Difference: 2.8286656903332708e-05\n",
      "Difference: 2.824333058337042e-05\n",
      "Difference: 2.820011478159995e-05\n",
      "Difference: 2.8157009103663144e-05\n",
      "Difference: 2.8114013157033713e-05\n",
      "Difference: 2.807112655096866e-05\n",
      "Difference: 2.8028348896508293e-05\n",
      "Difference: 2.7985679806483144e-05\n",
      "Difference: 2.794311889548623e-05\n",
      "Difference: 2.790066577985917e-05\n",
      "Difference: 2.7858320077706056e-05\n",
      "Difference: 2.7816081408858773e-05\n",
      "Difference: 2.7773949394890862e-05\n",
      "Difference: 2.7731923659068958e-05\n",
      "Difference: 2.7690003826394416e-05\n",
      "Difference: 2.7648189523554745e-05\n",
      "Difference: 2.7606480378930542e-05\n",
      "Difference: 2.7564876022595497e-05\n",
      "Difference: 2.7523376086274753e-05\n",
      "Difference: 2.748198020336573e-05\n",
      "Difference: 2.744068800892424e-05\n",
      "Difference: 2.739949913963674e-05\n",
      "Difference: 2.7358413233848078e-05\n",
      "Difference: 2.731742993149905e-05\n",
      "Difference: 2.7276548874174966e-05\n",
      "Difference: 2.723576970505709e-05\n",
      "Difference: 2.7195092068915683e-05\n",
      "Difference: 2.7154515612137775e-05\n"
     ]
    },
    {
     "data": {
      "text/plain": [
       "0.054592971510185134"
      ]
     },
     "execution_count": 77,
     "metadata": {},
     "output_type": "execute_result"
    }
   ],
   "source": [
    "def sinEquation():\n",
    "    x=1\n",
    "    for k in range(0,1000):\n",
    "        xNext=math.sin(x)\n",
    "        difference=abs(xNext-x)\n",
    "        print(\"Difference: \"+str(difference))\n",
    "        if difference==0:\n",
    "            break\n",
    "                    \n",
    "        x=xNext\n",
    "        \n",
    "    return x\n",
    "\n",
    "sinEquation()"
   ]
  },
  {
   "cell_type": "markdown",
   "metadata": {},
   "source": [
    "### Ancient Greece\n",
    "Euclid knew a nifty algorithm to quickly find the greatest common divisor (CGD) of two positive integers $a$ and $b$; that is the largest integer $c$ such that $a\\div c$ and $b\\div c$ are both integers. You can find the algorithm everywhere, even [wikipedia](https://en.wikipedia.org/wiki/Euclidean_algorithm).\n",
    "\n",
    "Try to write your own `gcd` function. Test it against `math.gcd` to make sure it works!\n"
   ]
  },
  {
   "cell_type": "code",
   "execution_count": 78,
   "metadata": {},
   "outputs": [
    {
     "name": "stdout",
     "output_type": "stream",
     "text": [
      "100 = q*64 + 36.\n",
      "64 = q*36 + 28.\n",
      "36 = q*28 + 8.\n",
      "28 = q*8 + 4.\n",
      "8 = q*4 + 0.\n"
     ]
    },
    {
     "data": {
      "text/plain": [
       "4"
      ]
     },
     "execution_count": 78,
     "metadata": {},
     "output_type": "execute_result"
    }
   ],
   "source": [
    "def gcd(a,b):\n",
    "    r=a\n",
    "    s=b\n",
    "    t=0\n",
    "    \n",
    "    if (r<s):\n",
    "        r=b\n",
    "        s=a\n",
    "    \n",
    "    for k in range(0,10):\n",
    "        t=r%s\n",
    "        print(f'{r} = q*{s} + {t}.')\n",
    "        \n",
    "        if t==0:\n",
    "            break\n",
    "        r=s\n",
    "        s=t\n",
    "    \n",
    "    return s\n",
    "\n",
    "\n",
    "gcd(64,100)"
   ]
  },
  {
   "cell_type": "code",
   "execution_count": null,
   "metadata": {},
   "outputs": [],
   "source": []
  }
 ],
 "metadata": {
  "kernelspec": {
   "display_name": "Python 3",
   "language": "python",
   "name": "python3"
  },
  "language_info": {
   "codemirror_mode": {
    "name": "ipython",
    "version": 3
   },
   "file_extension": ".py",
   "mimetype": "text/x-python",
   "name": "python",
   "nbconvert_exporter": "python",
   "pygments_lexer": "ipython3",
   "version": "3.6.7"
  }
 },
 "nbformat": 4,
 "nbformat_minor": 2
}
