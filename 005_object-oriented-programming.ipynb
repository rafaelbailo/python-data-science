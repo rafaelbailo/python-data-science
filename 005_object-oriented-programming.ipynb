{
 "cells": [
  {
   "cell_type": "markdown",
   "metadata": {},
   "source": [
    "# V. Object-Oriented Programming\n",
    "\n",
    "## Basic Objects\n",
    "\n",
    "Objects in Python can be created by using the `class` keyword, and inside the block you can define properties and assign values. The cell below defines a class which holds a single value:"
   ]
  },
  {
   "cell_type": "code",
   "execution_count": 1,
   "metadata": {},
   "outputs": [],
   "source": [
    "class MyConstant:\n",
    "    value = 7"
   ]
  },
  {
   "cell_type": "markdown",
   "metadata": {},
   "source": [
    "You can check that `MyConstant` is now recognised by Python: "
   ]
  },
  {
   "cell_type": "code",
   "execution_count": 2,
   "metadata": {},
   "outputs": [
    {
     "data": {
      "text/plain": [
       "__main__.MyConstant"
      ]
     },
     "execution_count": 2,
     "metadata": {},
     "output_type": "execute_result"
    }
   ],
   "source": [
    "MyConstant"
   ]
  },
  {
   "cell_type": "markdown",
   "metadata": {},
   "source": [
    "### Instantiation\n",
    "\n",
    "You can create an *instance* of the class by calling `MyConstant()` (this is called *instantiation*)."
   ]
  },
  {
   "cell_type": "code",
   "execution_count": 3,
   "metadata": {},
   "outputs": [
    {
     "name": "stdout",
     "output_type": "stream",
     "text": [
      "<__main__.MyConstant object at 0x7fd1cc0a2b38>\n"
     ]
    }
   ],
   "source": [
    "constant = MyConstant()\n",
    "print(constant)"
   ]
  },
  {
   "cell_type": "markdown",
   "metadata": {},
   "source": [
    "Once you have an instance of the `MyConstant` class, you can access its property `value` with the usual *dot notation*."
   ]
  },
  {
   "cell_type": "code",
   "execution_count": 4,
   "metadata": {},
   "outputs": [
    {
     "data": {
      "text/plain": [
       "7"
      ]
     },
     "execution_count": 4,
     "metadata": {},
     "output_type": "execute_result"
    }
   ],
   "source": [
    "constant.value"
   ]
  },
  {
   "cell_type": "markdown",
   "metadata": {},
   "source": [
    "Why does this look familiar? This is because everything in Python is an object. **EVERYTHING** is an object. E-ve-ry-thing.\n",
    "\n",
    "*Numbers* are objects:"
   ]
  },
  {
   "cell_type": "code",
   "execution_count": 5,
   "metadata": {},
   "outputs": [
    {
     "data": {
      "text/plain": [
       "True"
      ]
     },
     "execution_count": 5,
     "metadata": {},
     "output_type": "execute_result"
    }
   ],
   "source": [
    "isinstance(1, object)"
   ]
  },
  {
   "cell_type": "markdown",
   "metadata": {},
   "source": [
    "*Strings* are objects:"
   ]
  },
  {
   "cell_type": "code",
   "execution_count": 6,
   "metadata": {},
   "outputs": [
    {
     "data": {
      "text/plain": [
       "True"
      ]
     },
     "execution_count": 6,
     "metadata": {},
     "output_type": "execute_result"
    }
   ],
   "source": [
    "isinstance(\"A string\", object)"
   ]
  },
  {
   "cell_type": "markdown",
   "metadata": {},
   "source": [
    "*Modules* are objects too!"
   ]
  },
  {
   "cell_type": "code",
   "execution_count": 7,
   "metadata": {},
   "outputs": [
    {
     "data": {
      "text/plain": [
       "True"
      ]
     },
     "execution_count": 7,
     "metadata": {},
     "output_type": "execute_result"
    }
   ],
   "source": [
    "import math\n",
    "isinstance(math, object)"
   ]
  },
  {
   "cell_type": "markdown",
   "metadata": {},
   "source": [
    "**EVERYTHING** is an object.\n",
    "\n",
    "Python favours what is known as *Object-Oriented Programming*. Note this is not the only programming style, but it's certainly a popular one.\n",
    "\n",
    "### Objects with Many Values\n",
    "\n",
    "We can of course define more interesting classes. For instance, we can create a vector-like class which stores more than one value."
   ]
  },
  {
   "cell_type": "code",
   "execution_count": 8,
   "metadata": {},
   "outputs": [],
   "source": [
    "class MyVector:\n",
    "    x = 1\n",
    "    y = 2\n",
    "    z = 3"
   ]
  },
  {
   "cell_type": "code",
   "execution_count": 9,
   "metadata": {},
   "outputs": [
    {
     "data": {
      "text/plain": [
       "[1, 2, 3]"
      ]
     },
     "execution_count": 9,
     "metadata": {},
     "output_type": "execute_result"
    }
   ],
   "source": [
    "v = MyVector()\n",
    "[v.x, v.y, v.z]"
   ]
  },
  {
   "cell_type": "markdown",
   "metadata": {},
   "source": [
    "This is not fantastic, though, as every instance of such class will store the *same* values:"
   ]
  },
  {
   "cell_type": "code",
   "execution_count": 10,
   "metadata": {},
   "outputs": [
    {
     "data": {
      "text/plain": [
       "[1, 2, 3]"
      ]
     },
     "execution_count": 10,
     "metadata": {},
     "output_type": "execute_result"
    }
   ],
   "source": [
    "w = MyVector()\n",
    "[w.x, w.y, w.z]"
   ]
  },
  {
   "cell_type": "markdown",
   "metadata": {},
   "source": [
    "### Constructors\n",
    "\n",
    "We need a vector class that can take any three values we like. We can achieve this by defining a *constructor* method:"
   ]
  },
  {
   "cell_type": "code",
   "execution_count": 11,
   "metadata": {},
   "outputs": [],
   "source": [
    "class MyVector:\n",
    "    def __init__(self, x, y, z):\n",
    "        self.x = x\n",
    "        self.y = y\n",
    "        self.z = z"
   ]
  },
  {
   "cell_type": "markdown",
   "metadata": {},
   "source": [
    "The constructor looks a little strange. The name, `__init__` is unusual, and this is because it is a reserved name: the constructor of every class is called `__init__`. Also note that there are *four* arguments, not three. `self` is always passed to the constructor and it references the object that we are constructing, which is why we are able to assign values to its properties by calling `self.x = x`.\n",
    "\n",
    "Create a vector now by passing three numbers, and check that the `x`, `y`, and `z` properties store the right value."
   ]
  },
  {
   "cell_type": "code",
   "execution_count": 12,
   "metadata": {},
   "outputs": [
    {
     "data": {
      "text/plain": [
       "[5, 2, 7]"
      ]
     },
     "execution_count": 12,
     "metadata": {},
     "output_type": "execute_result"
    }
   ],
   "source": [
    "v = MyVector(5,2,7)\n",
    "[v.x, v.y, v.z]"
   ]
  },
  {
   "cell_type": "markdown",
   "metadata": {},
   "source": [
    "### Methods\n",
    "\n",
    "The constructor is a special case of an *object method*: a function which belongs to a specific class. We can define lots of useful functions for a class; an object then becames a combination of the *data* it stores and the *methods* that can modify the data.\n",
    "\n",
    "For instance, we keep having to print the entries of each vector \"by hand\". We can instead create a `show` method which prints the variables to the console in a nice format."
   ]
  },
  {
   "cell_type": "code",
   "execution_count": 13,
   "metadata": {},
   "outputs": [],
   "source": [
    "class MyVector:\n",
    "    def __init__(self, x, y, z):\n",
    "        self.x = x\n",
    "        self.y = y\n",
    "        self.z = z\n",
    "   \n",
    "    def show(self):\n",
    "        print([self.x, self.y, self.z])"
   ]
  },
  {
   "cell_type": "code",
   "execution_count": 14,
   "metadata": {},
   "outputs": [
    {
     "name": "stdout",
     "output_type": "stream",
     "text": [
      "[2, 8, 4]\n"
     ]
    }
   ],
   "source": [
    "v = MyVector(2,8,4)\n",
    "v.show()"
   ]
  },
  {
   "cell_type": "markdown",
   "metadata": {},
   "source": [
    "We can also define methods which take more arguments: numbers, strings, and in general any object. For instance, any vector class should have a method for addition!"
   ]
  },
  {
   "cell_type": "code",
   "execution_count": 15,
   "metadata": {},
   "outputs": [],
   "source": [
    "class MyVector:\n",
    "    def __init__(self, x, y, z):\n",
    "        self.x = x\n",
    "        self.y = y\n",
    "        self.z = z\n",
    "    \n",
    "    def add(self, other):\n",
    "        return MyVector(self.x+other.x, self.y+other.y, self.z+other.z)\n",
    "    \n",
    "    def show(self):\n",
    "        print([self.x, self.y, self.z])"
   ]
  },
  {
   "cell_type": "code",
   "execution_count": 16,
   "metadata": {},
   "outputs": [],
   "source": [
    "v1 = MyVector(1,2,3)\n",
    "v2 = MyVector(4,5,6)"
   ]
  },
  {
   "cell_type": "code",
   "execution_count": 17,
   "metadata": {},
   "outputs": [
    {
     "name": "stdout",
     "output_type": "stream",
     "text": [
      "[5, 7, 9]\n"
     ]
    }
   ],
   "source": [
    "v3 = v1.add(v2)\n",
    "v3.show()"
   ]
  },
  {
   "cell_type": "markdown",
   "metadata": {},
   "source": [
    "## A Game Class\n",
    "\n",
    "Implementing a vector class is not exactly a productive thing to do, because there are plenty of modules which already implement vector algebra &mdash; we have used `numpy` before. However, we can build anything we can think of as a system of objects.\n",
    "\n",
    "We're going to implement a basic tournament of rock–paper–scissors. We will define players, define their strategies for playing the game, and then make them play against each other to find out which one is best.\n",
    "\n",
    "### The Moves\n",
    "\n",
    "First we will define the basic moves, `ROCK`, `PAPER` and `SCISSORS`. We can use the `Enum` class from the `enum` module in order to `enum`-erate the moves:"
   ]
  },
  {
   "cell_type": "code",
   "execution_count": 18,
   "metadata": {},
   "outputs": [],
   "source": [
    "from enum import Enum"
   ]
  },
  {
   "cell_type": "markdown",
   "metadata": {},
   "source": [
    "To define the moves, we will **extend** the Enum class:"
   ]
  },
  {
   "cell_type": "code",
   "execution_count": 19,
   "metadata": {},
   "outputs": [],
   "source": [
    "class Move(Enum):\n",
    "    ROCK = 1\n",
    "    PAPER = 2\n",
    "    SCISSORS = 3"
   ]
  },
  {
   "cell_type": "code",
   "execution_count": 20,
   "metadata": {},
   "outputs": [
    {
     "data": {
      "text/plain": [
       "(<Move.ROCK: 1>, <Move.PAPER: 2>, <Move.SCISSORS: 3>)"
      ]
     },
     "execution_count": 20,
     "metadata": {},
     "output_type": "execute_result"
    }
   ],
   "source": [
    "Move.ROCK, Move.PAPER, Move.SCISSORS"
   ]
  },
  {
   "cell_type": "markdown",
   "metadata": {},
   "source": [
    "We will also define a function which decides whick move wins on each case. It will take two moves as arguments and return `1`, `-1`, `0` whenever the first move wins, the second wins, or there is a tie respectively."
   ]
  },
  {
   "cell_type": "code",
   "execution_count": 21,
   "metadata": {},
   "outputs": [],
   "source": [
    "def whoWins(move1, move2):\n",
    "    if move1 == move2: return 0\n",
    "\n",
    "    if (move1 == Move.ROCK and move2 == Move.SCISSORS): return 1\n",
    "    if (move1 == Move.SCISSORS and move2 == Move.PAPER): return 1\n",
    "    if (move1 == Move.PAPER and move2 == Move.ROCK): return 1\n",
    "\n",
    "    return -1"
   ]
  },
  {
   "cell_type": "code",
   "execution_count": 22,
   "metadata": {},
   "outputs": [
    {
     "data": {
      "text/plain": [
       "0"
      ]
     },
     "execution_count": 22,
     "metadata": {},
     "output_type": "execute_result"
    }
   ],
   "source": [
    "whoWins(Move.ROCK, Move.ROCK)"
   ]
  },
  {
   "cell_type": "code",
   "execution_count": 23,
   "metadata": {},
   "outputs": [
    {
     "data": {
      "text/plain": [
       "-1"
      ]
     },
     "execution_count": 23,
     "metadata": {},
     "output_type": "execute_result"
    }
   ],
   "source": [
    "whoWins(Move.ROCK, Move.PAPER)"
   ]
  },
  {
   "cell_type": "code",
   "execution_count": 24,
   "metadata": {},
   "outputs": [
    {
     "data": {
      "text/plain": [
       "1"
      ]
     },
     "execution_count": 24,
     "metadata": {},
     "output_type": "execute_result"
    }
   ],
   "source": [
    "whoWins(Move.ROCK, Move.SCISSORS)"
   ]
  },
  {
   "cell_type": "markdown",
   "metadata": {},
   "source": [
    "### The Strategies\n",
    "\n",
    "We will now define a basic `Strategy` class. This class will have a `getMove` method, which will decide what the player does each round, given the moves from the previous round. It will also have a `getFirstMove` method, because the players have no information on the first round.\n",
    "\n",
    "This class will never be used, it is just a skeleton for future strategies. We will not be writing any code inside the methods, just the keyword `pass` which indicates an incomplete method."
   ]
  },
  {
   "cell_type": "code",
   "execution_count": 25,
   "metadata": {},
   "outputs": [],
   "source": [
    "class Strategy(object):\n",
    "    def getFirstMove(self):\n",
    "        pass\n",
    "    \n",
    "    def getMove(self, myPreviousMove, theirPreviousMove):\n",
    "        pass"
   ]
  },
  {
   "cell_type": "markdown",
   "metadata": {},
   "source": [
    "#### A Random Strategy\n",
    "\n",
    "To begin we will only define one strategy, where the player chooses a move at random. We will use the command `random.choice(list(Move))` to pick one of the values of `Move` at random:"
   ]
  },
  {
   "cell_type": "code",
   "execution_count": 26,
   "metadata": {},
   "outputs": [],
   "source": [
    "import random"
   ]
  },
  {
   "cell_type": "code",
   "execution_count": 27,
   "metadata": {},
   "outputs": [],
   "source": [
    "class RandomStrategy(Strategy):\n",
    "    def getFirstMove(self):\n",
    "        return random.choice(list(Move))\n",
    "    \n",
    "    def getMove(self, myPreviousMove, theirPreviousMove):\n",
    "        return self.getFirstMove()"
   ]
  },
  {
   "cell_type": "markdown",
   "metadata": {},
   "source": [
    "We can now instantiate the strategy and check the methods work:"
   ]
  },
  {
   "cell_type": "code",
   "execution_count": 28,
   "metadata": {},
   "outputs": [],
   "source": [
    "randomStrategy = RandomStrategy()"
   ]
  },
  {
   "cell_type": "code",
   "execution_count": 29,
   "metadata": {},
   "outputs": [
    {
     "data": {
      "text/plain": [
       "<Move.ROCK: 1>"
      ]
     },
     "execution_count": 29,
     "metadata": {},
     "output_type": "execute_result"
    }
   ],
   "source": [
    "randomStrategy.getFirstMove()"
   ]
  },
  {
   "cell_type": "code",
   "execution_count": 30,
   "metadata": {},
   "outputs": [
    {
     "data": {
      "text/plain": [
       "<Move.SCISSORS: 3>"
      ]
     },
     "execution_count": 30,
     "metadata": {},
     "output_type": "execute_result"
    }
   ],
   "source": [
    "randomStrategy.getMove(None, None)"
   ]
  },
  {
   "cell_type": "markdown",
   "metadata": {},
   "source": [
    "#### A Stubborn Player\n",
    "\n",
    "We can define a strategy which picks a move at random when instantiated and always chooses to play that move:"
   ]
  },
  {
   "cell_type": "code",
   "execution_count": 31,
   "metadata": {},
   "outputs": [],
   "source": [
    "class StubbornStrategy(Strategy):\n",
    "    def __init__(self):\n",
    "        self.move = random.choice(list(Move))\n",
    "    \n",
    "    def getFirstMove(self):\n",
    "        return self.move\n",
    "    \n",
    "    def getMove(self, myPreviousMove, theirPreviousMove):\n",
    "        return self.getFirstMove()"
   ]
  },
  {
   "cell_type": "markdown",
   "metadata": {},
   "source": [
    "We can check that this strategy always plays the same way:"
   ]
  },
  {
   "cell_type": "code",
   "execution_count": 32,
   "metadata": {},
   "outputs": [],
   "source": [
    "stubbornStrategy = StubbornStrategy()"
   ]
  },
  {
   "cell_type": "code",
   "execution_count": 33,
   "metadata": {},
   "outputs": [
    {
     "data": {
      "text/plain": [
       "(<Move.ROCK: 1>, <Move.ROCK: 1>, <Move.ROCK: 1>)"
      ]
     },
     "execution_count": 33,
     "metadata": {},
     "output_type": "execute_result"
    }
   ],
   "source": [
    "stubbornStrategy.getFirstMove(), stubbornStrategy.getFirstMove(), stubbornStrategy.getFirstMove()"
   ]
  },
  {
   "cell_type": "code",
   "execution_count": 34,
   "metadata": {},
   "outputs": [
    {
     "data": {
      "text/plain": [
       "(<Move.ROCK: 1>, <Move.ROCK: 1>, <Move.ROCK: 1>)"
      ]
     },
     "execution_count": 34,
     "metadata": {},
     "output_type": "execute_result"
    }
   ],
   "source": [
    "stubbornStrategy.getMove(None, None), stubbornStrategy.getMove(None, None), stubbornStrategy.getMove(None, None)"
   ]
  },
  {
   "cell_type": "markdown",
   "metadata": {},
   "source": [
    "#### Monkey See, Monkey Do\n",
    "\n",
    "We can also define a strategy where the player simply copies what their opponent did on the previous round:"
   ]
  },
  {
   "cell_type": "code",
   "execution_count": 35,
   "metadata": {},
   "outputs": [],
   "source": [
    "class CopyStrategy(Strategy):\n",
    "    def getFirstMove(self):\n",
    "        return random.choice(list(Move))\n",
    "    \n",
    "    def getMove(self, myPreviousMove, theirPreviousMove):\n",
    "        return theirPreviousMove"
   ]
  },
  {
   "cell_type": "code",
   "execution_count": 36,
   "metadata": {},
   "outputs": [],
   "source": [
    "copyStrategy = CopyStrategy()"
   ]
  },
  {
   "cell_type": "code",
   "execution_count": 37,
   "metadata": {},
   "outputs": [
    {
     "data": {
      "text/plain": [
       "<Move.ROCK: 1>"
      ]
     },
     "execution_count": 37,
     "metadata": {},
     "output_type": "execute_result"
    }
   ],
   "source": [
    "copyStrategy.getFirstMove()"
   ]
  },
  {
   "cell_type": "code",
   "execution_count": 38,
   "metadata": {},
   "outputs": [
    {
     "data": {
      "text/plain": [
       "<Move.ROCK: 1>"
      ]
     },
     "execution_count": 38,
     "metadata": {},
     "output_type": "execute_result"
    }
   ],
   "source": [
    "copyStrategy.getMove(None, Move.ROCK)"
   ]
  },
  {
   "cell_type": "code",
   "execution_count": 39,
   "metadata": {},
   "outputs": [
    {
     "data": {
      "text/plain": [
       "<Move.PAPER: 2>"
      ]
     },
     "execution_count": 39,
     "metadata": {},
     "output_type": "execute_result"
    }
   ],
   "source": [
    "copyStrategy.getMove(None, Move.PAPER)"
   ]
  },
  {
   "cell_type": "code",
   "execution_count": 40,
   "metadata": {},
   "outputs": [
    {
     "data": {
      "text/plain": [
       "<Move.SCISSORS: 3>"
      ]
     },
     "execution_count": 40,
     "metadata": {},
     "output_type": "execute_result"
    }
   ],
   "source": [
    "copyStrategy.getMove(None, Move.SCISSORS)"
   ]
  },
  {
   "cell_type": "markdown",
   "metadata": {},
   "source": [
    "#### Win or Regret\n",
    "\n",
    "We now define a strategy that plays the same movement it played before if it won, but a random one if it lost:"
   ]
  },
  {
   "cell_type": "code",
   "execution_count": 41,
   "metadata": {},
   "outputs": [],
   "source": [
    "class RegretStrategy(Strategy):\n",
    "    def getFirstMove(self):\n",
    "        return random.choice(list(Move))\n",
    "    \n",
    "    def getMove(self, myPreviousMove, theirPreviousMove):\n",
    "        if whoWins(myPreviousMove, theirPreviousMove)>0:\n",
    "            return myPreviousMove\n",
    "        \n",
    "        return self.getFirstMove()"
   ]
  },
  {
   "cell_type": "code",
   "execution_count": 42,
   "metadata": {},
   "outputs": [],
   "source": [
    "regretStrategy = RegretStrategy()"
   ]
  },
  {
   "cell_type": "code",
   "execution_count": 43,
   "metadata": {},
   "outputs": [
    {
     "data": {
      "text/plain": [
       "<Move.PAPER: 2>"
      ]
     },
     "execution_count": 43,
     "metadata": {},
     "output_type": "execute_result"
    }
   ],
   "source": [
    "regretStrategy.getFirstMove()"
   ]
  },
  {
   "cell_type": "code",
   "execution_count": 44,
   "metadata": {},
   "outputs": [
    {
     "data": {
      "text/plain": [
       "<Move.ROCK: 1>"
      ]
     },
     "execution_count": 44,
     "metadata": {},
     "output_type": "execute_result"
    }
   ],
   "source": [
    "regretStrategy.getMove(Move.ROCK, Move.SCISSORS)"
   ]
  },
  {
   "cell_type": "code",
   "execution_count": 45,
   "metadata": {},
   "outputs": [
    {
     "data": {
      "text/plain": [
       "<Move.SCISSORS: 3>"
      ]
     },
     "execution_count": 45,
     "metadata": {},
     "output_type": "execute_result"
    }
   ],
   "source": [
    "regretStrategy.getMove(Move.ROCK, Move.PAPER)"
   ]
  },
  {
   "cell_type": "markdown",
   "metadata": {},
   "source": [
    "### The Game Class\n",
    "\n",
    "We now have to define a `Game` between two strategies. It will have to define a `play` method which plays each round, keeps track of the total score, and eventually returns a value which indicates who won the game."
   ]
  },
  {
   "cell_type": "code",
   "execution_count": 46,
   "metadata": {},
   "outputs": [],
   "source": [
    "class Game(object):\n",
    "    def __init__(self, strategy1, strategy2):\n",
    "        self.strategy1 = strategy1\n",
    "        self.strategy2 = strategy2\n",
    "    \n",
    "    def playRound(self, move1, move2):\n",
    "        return whoWins(move1, move2)\n",
    "    \n",
    "    def play(self, rounds):\n",
    "        totalScore = 0\n",
    "        \n",
    "        for k in range(0, rounds):\n",
    "            if k==0:\n",
    "                self.move1 = self.strategy1.getFirstMove()\n",
    "                self.move2 = self.strategy2.getFirstMove()\n",
    "            else:\n",
    "                self.move1 = self.strategy1.getMove(self.previousMove1, self.previousMove2)\n",
    "                self.move2 = self.strategy2.getMove(self.previousMove2, self.previousMove1)\n",
    "                \n",
    "            score = self.playRound(self.move1, self.move2)\n",
    "            totalScore = totalScore + score\n",
    "                \n",
    "            self.previousMove1 = self.move1\n",
    "            self.previousMove2 = self.move2\n",
    "\n",
    "        if totalScore>0: return 1\n",
    "        if totalScore<0: return -1\n",
    "        return 0"
   ]
  },
  {
   "cell_type": "code",
   "execution_count": 47,
   "metadata": {},
   "outputs": [],
   "source": [
    "testGame = Game(randomStrategy, stubbornStrategy)"
   ]
  },
  {
   "cell_type": "code",
   "execution_count": 48,
   "metadata": {},
   "outputs": [
    {
     "data": {
      "text/plain": [
       "-1"
      ]
     },
     "execution_count": 48,
     "metadata": {},
     "output_type": "execute_result"
    }
   ],
   "source": [
    "testGame.play(10)"
   ]
  },
  {
   "cell_type": "markdown",
   "metadata": {},
   "source": [
    "### The Tournament Class\n",
    "\n",
    "Last, but not least, we need to organise the tournament. This class will take a list of strategies and define a `play` method which will make each strategy play against every other for a number of games and keep track of the total score."
   ]
  },
  {
   "cell_type": "code",
   "execution_count": 49,
   "metadata": {},
   "outputs": [],
   "source": [
    "class Tournament(object):\n",
    "    def __init__(self, strategies):\n",
    "        self.strategies = strategies\n",
    "    \n",
    "    def play(self, games, rounds):\n",
    "        scores = [0 for strategy in self.strategies]\n",
    "        N = len(self.strategies)\n",
    "        \n",
    "        for i in range(0, N-1):\n",
    "            for j in range(i+1, N):\n",
    "                totalScore = 0\n",
    "                game = Game(self.strategies[i], self.strategies[j])\n",
    "                \n",
    "                for k in range(0, games):\n",
    "                    score = game.play(rounds)\n",
    "                    totalScore = totalScore + score\n",
    "                \n",
    "                scores[i] = scores[i] + totalScore\n",
    "                scores[j] = scores[j] - totalScore\n",
    "        \n",
    "        return scores"
   ]
  },
  {
   "cell_type": "code",
   "execution_count": 50,
   "metadata": {},
   "outputs": [],
   "source": [
    "strategyList = [randomStrategy, stubbornStrategy, copyStrategy, regretStrategy]\n",
    "tournament = Tournament(strategyList)"
   ]
  },
  {
   "cell_type": "code",
   "execution_count": 51,
   "metadata": {},
   "outputs": [
    {
     "data": {
      "text/plain": [
       "[6, -91, -9, 94]"
      ]
     },
     "execution_count": 51,
     "metadata": {},
     "output_type": "execute_result"
    }
   ],
   "source": [
    "tournament.play(100, 100)"
   ]
  },
  {
   "cell_type": "code",
   "execution_count": null,
   "metadata": {},
   "outputs": [],
   "source": []
  }
 ],
 "metadata": {
  "kernelspec": {
   "display_name": "Python 3",
   "language": "python",
   "name": "python3"
  },
  "language_info": {
   "codemirror_mode": {
    "name": "ipython",
    "version": 3
   },
   "file_extension": ".py",
   "mimetype": "text/x-python",
   "name": "python",
   "nbconvert_exporter": "python",
   "pygments_lexer": "ipython3",
   "version": "3.6.7"
  }
 },
 "nbformat": 4,
 "nbformat_minor": 2
}
